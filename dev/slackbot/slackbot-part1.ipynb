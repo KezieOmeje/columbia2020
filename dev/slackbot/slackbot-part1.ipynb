{
 "cells": [
  {
   "cell_type": "markdown",
   "metadata": {},
   "source": [
    "## Let's create a bot....\n",
    "\n",
    "![Newsbot](https://static.vecteezy.com/system/resources/previews/000/518/290/non_2x/ai-artificial-intelligence-technology-robot-cartoon-001-vector.jpg)\n",
    "\n",
    "During today's class, we're going to learn how to create a Slack bot. You'll be able to take the bots which you've been prototyping (and hopefully starting to build in code) and turn them into Slack bots. In our next class (after Spring Break 🌴), we'll learn how to move these bots off of our laptop and into the cloud (where they can run 24x7, even while we sleep).\n",
    "\n",
    "To illustrate some simple bot concepts and how we'll integrate with the Slack APIs and libraries, we're going to build a simple bot related to the coronavirus. Once we learn the Slack bot basics, we'll have you move your bot ideas to Slack.\n",
    "\n",
    "**Ok, let's get started....**\n",
    "\n",
    "For our simple newsbot 🗞️🤖, we have a few basic **requirements**:\n",
    "\n",
    "1. We'd like to be able to ask it for the latest statistics on the virus\n",
    "2. We'd like to be able to ask it for the most recent statistics from different parts of the world\n",
    "3. We'd like to be able to get the latest news on the coronavirus\n",
    "\n",
    "We're going to build this bot on Slack but we'd like to easily \"port\" it to Alexa as well.\n",
    "\n",
    "\n",
    "[TODO: show interactions]\n",
    "e.g.:\n",
    "```\n",
    "@covidbot confirmed\n",
    "@covidbot recovered\n",
    "@covidbot news about coronavirus\n",
    "```\n",
    "\n",
    "\n",
    "<img src=\"https://external-preview.redd.it/5TUMGrd5nfl7nYnA9RosPBR9l1PUMIMeYplMAtE9oNQ.png?width=960&crop=smart&auto=webp&s=bfd95c6af23083aa439eff0b632a40fcd9475ea0\" width=\"800\">"
   ]
  },
  {
   "cell_type": "markdown",
   "metadata": {},
   "source": [
    "### First, let's look at where our bot will get the news...\n",
    "\n",
    "We're going to use a nice service call the [News API](https://newsapi.org/). The News API is a service which allows us to: \"*Get breaking news headlines, and search for articles from over 30,000 news sources and blogs with our news API*\". It provides simple searching access to a large number of news services.\n",
    "\n",
    "**Please** sign up for an API key - you'll need it in the code below: https://newsapi.org/register\n",
    "\n",
    "The nice folks at News API have written a [python library](https://newsapi.org/docs/client-libraries/python) so that we can easily call their API. Let's install that now:"
   ]
  },
  {
   "cell_type": "code",
   "execution_count": null,
   "metadata": {},
   "outputs": [],
   "source": [
    "!pip install newsapi-python"
   ]
  },
  {
   "cell_type": "markdown",
   "metadata": {},
   "source": [
    "Now, let's look at how we can call the News API to get the various news we'll need to handle our bot interactions. Remember, we want out bot to be able to fetch:\n",
    "\n",
    "1. Top stories\n",
    "2. The latest stories from a given site or domain name.\n",
    "3. Search for latest stories given a term/topic.\n",
    "\n",
    "\n",
    "To get the top headlines from the News API, we can do the following:"
   ]
  },
  {
   "cell_type": "code",
   "execution_count": null,
   "metadata": {},
   "outputs": [],
   "source": [
    "# import the NewsApiClient\n",
    "from newsapi import NewsApiClient\n",
    "\n",
    "# put your News API key here\n",
    "NEWSAPI_KEY = '1235c8f5d0b9425eb17d0b8cd12f8881'\n",
    "\n",
    "newsapi = NewsApiClient(api_key=NEWSAPI_KEY)\n",
    "\n",
    "# this is how we call the news api to get the top headlines in the US (english)\n",
    "top_headlines = newsapi.get_top_headlines(language='en', country='us')"
   ]
  },
  {
   "cell_type": "markdown",
   "metadata": {},
   "source": [
    "What sort of python object are we working with?"
   ]
  },
  {
   "cell_type": "code",
   "execution_count": null,
   "metadata": {},
   "outputs": [],
   "source": [
    "type(top_headlines)"
   ]
  },
  {
   "cell_type": "markdown",
   "metadata": {},
   "source": [
    "Let's inspect the dictionary a bit:"
   ]
  },
  {
   "cell_type": "code",
   "execution_count": null,
   "metadata": {},
   "outputs": [],
   "source": [
    "top_headlines.keys()"
   ]
  },
  {
   "cell_type": "markdown",
   "metadata": {},
   "source": [
    "It looks like we have three fields: `status`, `totalResults` and `articles`. Let's print them out and see what they look like:"
   ]
  },
  {
   "cell_type": "code",
   "execution_count": null,
   "metadata": {},
   "outputs": [],
   "source": [
    "top_headlines['status']"
   ]
  },
  {
   "cell_type": "code",
   "execution_count": null,
   "metadata": {},
   "outputs": [],
   "source": [
    "top_headlines['totalResults']"
   ]
  },
  {
   "cell_type": "markdown",
   "metadata": {},
   "source": [
    "Let's look at `articles` - what type is it?"
   ]
  },
  {
   "cell_type": "code",
   "execution_count": null,
   "metadata": {},
   "outputs": [],
   "source": [
    "type(top_headlines['articles'])"
   ]
  },
  {
   "cell_type": "markdown",
   "metadata": {},
   "source": [
    "How would we print out the first article?"
   ]
  },
  {
   "cell_type": "code",
   "execution_count": null,
   "metadata": {},
   "outputs": [],
   "source": [
    "# Your Turn: how would we print out the first article?\n",
    "\n",
    "\n"
   ]
  },
  {
   "cell_type": "markdown",
   "metadata": {},
   "source": [
    "The article dictionary has a lot of great info: title, description, url, image, published date and \"source\"."
   ]
  },
  {
   "cell_type": "code",
   "execution_count": null,
   "metadata": {},
   "outputs": [],
   "source": [
    "# Your Turn: loop over the articles, printing out the title, source name and published date\n",
    "\n",
    "\n"
   ]
  },
  {
   "cell_type": "markdown",
   "metadata": {},
   "source": [
    "### Now, let's see how we get the top stories for a given news site:\n",
    "\n",
    "News API has an API called \"[everything](https://newsapi.org/docs/endpoints/everything)\" which allows us to pass in a domain and get all of the news from that domain/site. Here is how we get the latest news from the Washington Post:"
   ]
  },
  {
   "cell_type": "code",
   "execution_count": null,
   "metadata": {},
   "outputs": [],
   "source": [
    "# top headlines from WaPo\n",
    "top_headlines = newsapi.get_everything(domains='washingtonpost.com', language='en')\n",
    "\n",
    "for article in top_headlines['articles']:\n",
    "    print(article['title'])\n",
    "    print(article['source']['name'])\n",
    "    print(article['publishedAt'])\n",
    "    print('---'*10)"
   ]
  },
  {
   "cell_type": "markdown",
   "metadata": {},
   "source": [
    "### Last, how do we get the latest articles for a given search query:\n",
    "\n",
    "Here is how we'd search for top stories for a given query. In this case, let's look for the news on the \"coronavirus\":"
   ]
  },
  {
   "cell_type": "code",
   "execution_count": null,
   "metadata": {},
   "outputs": [],
   "source": [
    "query = 'coronavirus'\n",
    "\n",
    "top_headlines = newsapi.get_top_headlines(q=query, language='en')\n",
    "\n",
    "for article in top_headlines['articles']:\n",
    "    print(article['title'])\n",
    "    print(article['source']['name'])\n",
    "    print(article['publishedAt'])\n",
    "    print('---'*10)"
   ]
  },
  {
   "cell_type": "markdown",
   "metadata": {},
   "source": [
    "## Now, let's get to work on our Slack bot\n",
    "\n",
    "Now that we have the news-side of our bot (mostly) worked out, let's start on our Slack integration."
   ]
  },
  {
   "cell_type": "markdown",
   "metadata": {},
   "source": [
    "**First**, let's create our news bot on Slack:\n",
    "\n",
    "Make sure you are logged into slack.com with your account you're using for this class and head to [api.slack.com](https://api.slack.com/apps?new_granular_bot_app=1) to create your own bot. Fill out the form by using a clever bot name (you can't all use the same name!) and selecting `Computational Journalism 2020` from the Workspace dropdown. If you don't see \"Computational Journalism 2020\" in the Workspace dropdown menu, you may need to log back in under a different email/account.\n",
    "\n",
    "<img src=\"https://raw.githubusercontent.com/computationaljournalism/columbia2020/master/images/bot_create.png\" width=\"500\">"
   ]
  },
  {
   "cell_type": "markdown",
   "metadata": {},
   "source": [
    "**Next**, we need to give our app permissions so that it can post messages to Slack:\n",
    "\n",
    "Navigate to `OAuth & Permissions` on the sidebar and scroll down to the `Bot Token Scopes` section. `Scopes` give your app permission to do things (for example, post messages). \n",
    "\n",
    "Click on `Add an OAth Scope`.\n",
    "\n",
    "Add the `chat:write` scope to grant your app the permission to post messages in channels it's a member of.\n",
    "\n",
    "<img src=\"https://raw.githubusercontent.com/computationaljournalism/columbia2020/master/images/bot_scopes.png\" width=\"500\">"
   ]
  },
  {
   "cell_type": "markdown",
   "metadata": {},
   "source": [
    "**Now**, scroll back up to the top of the `OAuth & Permissions` screen and click on the green `Install App to Workspace` button.\n",
    "\n",
    "<img src=\"https://raw.githubusercontent.com/computationaljournalism/columbia2020/master/images/bot_install.png\" width=\"500\">\n",
    "\n",
    "You should see a prompt that looks like the following - click `Allow` so that your bot can be installed into our Computational Journalism Slack \"workplace.\"\n",
    "\n",
    "<img src=\"https://raw.githubusercontent.com/computationaljournalism/columbia2020/master/images/bot_allow.png\" width=\"500\">"
   ]
  },
  {
   "cell_type": "markdown",
   "metadata": {},
   "source": [
    "**Important!!**\n",
    "\n",
    "Copy the `Bot User OAuth Access Token` - this will be our API token! We'll use it in the code below!\n",
    "\n",
    "<img src=\"https://raw.githubusercontent.com/computationaljournalism/columbia2020/master/images/bot_token.png\" width=\"600\">"
   ]
  },
  {
   "cell_type": "markdown",
   "metadata": {},
   "source": [
    "**Last...**\n",
    "\n",
    "As we develop our bot, each of us will create a new channel in Slack that we can use as our own \"sandbox.\" We need a place to test out our bot (without annoying our classmates!) so go ahead and create a channel with your name in it, like `mikes-bot` or `marks-bot`.\n",
    "\n",
    "After creating your channel, go to that channel and invite your bot to the channel. You can do it by typing `/invite` followed by your bot's name. For example, if I wanted to invite `@newsbot` to my channel, I'd type:\n",
    "\n",
    "```\n",
    "/invite @newsbot\n",
    "```\n",
    "\n",
    "After doing this, you should see a note saying: `Your bot was added to [your channel] by [you].`\n",
    "\n",
    "<img src=\"https://raw.githubusercontent.com/computationaljournalism/columbia2020/master/images/bot_invite.png\">"
   ]
  },
  {
   "cell_type": "markdown",
   "metadata": {},
   "source": [
    "**Great!!** 🎉🎉\n",
    "\n",
    "We're almost there! Now, let's install the Slack python library which makes it easy to post message to slack. To install Slack's python library, run the following:"
   ]
  },
  {
   "cell_type": "code",
   "execution_count": null,
   "metadata": {},
   "outputs": [],
   "source": [
    "!pip install slackclient"
   ]
  },
  {
   "cell_type": "markdown",
   "metadata": {},
   "source": [
    "### Sending our first message to Slack\n",
    "\n",
    "To send a message from our bot (notebook) to Slack, you can update a few variables below and fire away. You'll need to:\n",
    "\n",
    "1. add your API token/key, which you copied above, to the `SLACK_API_TOKEN` variable,\n",
    "2. update the `channel` variable with the name of the channel that you just created. Make sure that it starts with `#`. For example, `#mike-test`.\n",
    "3. feel free to update the `slack_message` variable - this is what your bot will post to your channel.\n",
    "\n"
   ]
  },
  {
   "cell_type": "code",
   "execution_count": null,
   "metadata": {
    "scrolled": true
   },
   "outputs": [],
   "source": [
    "import slack\n",
    "\n",
    "# our slack api token\n",
    "# copy this from the OAuth & Permissions --> \"Bot User OAuth Access Token\"\n",
    "SLACK_API_TOKEN = \"\"\n",
    "\n",
    "# initialize our slack api client\n",
    "slack_client = slack.WebClient(token=SLACK_API_TOKEN)\n",
    "\n",
    "# put your slack channel here, like #mike-test\n",
    "channel = \"\"\n",
    "slack_message = \"Hello!\"\n",
    "\n",
    "# post a message to a channel\n",
    "response = slack_client.chat_postMessage(channel=channel, text=slack_message)\n",
    "\n",
    "print(response)"
   ]
  },
  {
   "cell_type": "markdown",
   "metadata": {},
   "source": [
    "### Do you get an error?\n",
    "\n",
    "If you see an error that says something like `The request to the Slack API failed`, you may not have completed your bot setup properly. \n",
    "\n",
    "```\n",
    "SlackApiError: The request to the Slack API failed.\n",
    "The server responded with: {'ok': False, 'error': 'missing_scope', 'needed': 'chat:write:bot', 'provided': 'calls:write'}\n",
    "```\n",
    "\n",
    "\n",
    "Most likely, you'll see an error message that says the following:\n",
    "\n",
    "```\n",
    "RuntimeError: This event loop is already running\n",
    "```\n",
    "\n",
    "To make this go away, we're going to add a bit of code to get around this error. Let's install this library first:"
   ]
  },
  {
   "cell_type": "code",
   "execution_count": null,
   "metadata": {},
   "outputs": [],
   "source": [
    "# https://github.com/erdewit/nest_asyncio\n",
    "!pip install nest_asyncio"
   ]
  },
  {
   "cell_type": "code",
   "execution_count": null,
   "metadata": {},
   "outputs": [],
   "source": [
    "import slack\n",
    "\n",
    "# to play nicely with Jupyter notebook\n",
    "import asyncio\n",
    "import nest_asyncio\n",
    "\n",
    "nest_asyncio.apply()\n",
    "# end of playing nice\n",
    "\n",
    "# initialize our slack api client\n",
    "slack_client = slack.WebClient(token=SLACK_API_TOKEN)\n",
    "\n",
    "# put your slack channel here, like #mike-test\n",
    "channel = \"\"\n",
    "slack_message = \"Hello!\"\n",
    "\n",
    "# post a message to a channel\n",
    "response = slack_client.chat_postMessage(channel=channel, text=slack_message)\n",
    "\n",
    "print(response)"
   ]
  },
  {
   "cell_type": "markdown",
   "metadata": {},
   "source": [
    "### Great! Now, let's make something a bit more useful...\n",
    "\n",
    "Let's imagine we want to have our newsbot send us top headlines a few times a day...alertings us when the News API has a new top headline. \n",
    "\n",
    "To do this, how might we have our bot run forever, waking up every so often? The following code will loop \"forever\", pausing for 5 seconds each time it runs:"
   ]
  },
  {
   "cell_type": "code",
   "execution_count": null,
   "metadata": {},
   "outputs": [],
   "source": [
    "import time\n",
    "\n",
    "# a loop that runs \"forever\"\n",
    "while True:\n",
    "\n",
    "    print(\"hello\")\n",
    "\n",
    "    # sleep for 5 seconds\n",
    "    time.sleep(5)"
   ]
  },
  {
   "cell_type": "markdown",
   "metadata": {},
   "source": [
    "To stop this, make sure you click the Stop icon `[]` in the notebook menu.\n",
    "\n",
    "**Detour on while loops**\n",
    "\n",
    "We have already seen `for` loops that iterate over a fixed set of items, say elements in a list. A `while` loop continues executing until the condition its testing for is no longer true. To make this real, let's consider tossing coins. We can simulate a coin toss with the `choice()` function in the `random` package."
   ]
  },
  {
   "cell_type": "code",
   "execution_count": null,
   "metadata": {},
   "outputs": [],
   "source": [
    "from random import choice\n",
    "\n",
    "# a coin is just a list with two options - heads or tails\n",
    "coin = [\"Heads\",\"Tails\"]\n",
    "\n",
    "# a toss is a random selection between these choices\n",
    "toss = choice(coin)\n",
    "\n",
    "# have a look -- do this several times\n",
    "toss"
   ]
  },
  {
   "cell_type": "markdown",
   "metadata": {},
   "source": [
    "Now, we can use the `while` loop toss a coin until we see five heads in total. We'll stop once we see the fifth head. Here's a simple loop."
   ]
  },
  {
   "cell_type": "code",
   "execution_count": null,
   "metadata": {},
   "outputs": [],
   "source": [
    "total_tosses = 0\n",
    "total_heads = 0\n",
    "\n",
    "while total_heads < 5:\n",
    "    \n",
    "    # keep track of the number of times we toss the coin\n",
    "    total_tosses += 1\n",
    "    \n",
    "    # toss it\n",
    "    toss = choice(coin)\n",
    "    \n",
    "    # test if its heads, and if so, increment the number of heads we've seen\n",
    "    \n",
    "    if toss == \"Heads\":\n",
    "        total_heads += 1\n",
    "        \n",
    "# print out how many tosses we needed to see 5 heads\n",
    "\n",
    "print(total_tosses)"
   ]
  },
  {
   "cell_type": "markdown",
   "metadata": {},
   "source": [
    "**Back to our bot**\n",
    "\n",
    "Ok, let's expand on that a bit and post a message to our Slack channel every few seconds. We're introducing a new python library here called the [datetime](https://docs.python.org/3/library/datetime.html) library. This is a very powerful library for dealing with, well, dates and times. We simply using it to print out the current time (\"now\")."
   ]
  },
  {
   "cell_type": "code",
   "execution_count": null,
   "metadata": {},
   "outputs": [],
   "source": [
    "from datetime import datetime\n",
    "\n",
    "# we're assuming you set the channel variable in a cell above\n",
    "#channel = \"#mike-test\"\n",
    "\n",
    "while True:\n",
    "\n",
    "    # create a message that says \"hello, the time is now 2020-03-11 12:34:00\"\n",
    "    slack_message = \"hello, the time is now \" + str(datetime.now())\n",
    "\n",
    "    # post the message to our Slack channel\n",
    "    response = slack_client.chat_postMessage(channel=channel, text=slack_message)\n",
    "\n",
    "    print(response)\n",
    "    \n",
    "    # sleep for 5 seconds\n",
    "    time.sleep(5)"
   ]
  },
  {
   "cell_type": "markdown",
   "metadata": {},
   "source": [
    "Again, make sure you hit the Stop button above to have your bot stop spamming you!\n",
    "\n",
    "\n",
    "Let's update our simple bot just a bit and post the top headline from the News API each time it runs:"
   ]
  },
  {
   "cell_type": "code",
   "execution_count": null,
   "metadata": {},
   "outputs": [],
   "source": [
    "# let's call the news api for the top headlines\n",
    "newsapi = NewsApiClient(api_key=NEWSAPI_KEY)\n",
    "\n",
    "# let's loop forever\n",
    "while True:\n",
    "\n",
    "    # get the top headline from the news api\n",
    "    top_headlines = newsapi.get_top_headlines(language='en', country='us')\n",
    "\n",
    "    # get the first headline in the list\n",
    "    top_headline = top_headlines['articles'][0]\n",
    "\n",
    "    # build a slack message with the title and url\n",
    "    slack_message = top_headline['title'] + ' ' + top_headline['url']\n",
    "\n",
    "    # post the headline to our slack channel\n",
    "    response = slack_client.chat_postMessage(channel=channel, text=slack_message)\n",
    "\n",
    "    # sleep for 5 seconds\n",
    "    time.sleep(5)\n",
    "    "
   ]
  },
  {
   "cell_type": "markdown",
   "metadata": {},
   "source": [
    "Well, that's not quite right! 🙃 We don't want out bot spamming us with the same headline every 5 seconds! What we'd really like is for our bot to post a headline to Slack only when it changes (i.e. when there is a new top headline). What's a technique that we can use to make sure we don't send the message over and over again?"
   ]
  },
  {
   "cell_type": "code",
   "execution_count": null,
   "metadata": {},
   "outputs": [],
   "source": [
    "# let's modify the code to only post a message to slack when we have a new message\n",
    "\n",
    "newsapi = NewsApiClient(api_key=NEWSAPI_KEY)\n",
    "\n",
    "# keep track of the last/previous message we sent to slack\n",
    "# we will initialize this to an empty string\n",
    "previous_message = \"\"\n",
    "\n",
    "while True:\n",
    "\n",
    "    # get the top headline from the news api\n",
    "    top_headlines = newsapi.get_top_headlines(language='en', country='us')\n",
    "\n",
    "    top_headline = top_headlines['articles'][0]\n",
    "\n",
    "    # build a slack message with the title and url\n",
    "    slack_message = top_headline['title'] + ' ' + top_headline['url']\n",
    "\n",
    "    # have we sent this one before?\n",
    "    if slack_message == previous_message:\n",
    "        print('we have already sent this message: ' + slack_message)\n",
    "    else:\n",
    "        # it's a new article! let's post it to our slack channel\n",
    "        response = slack_client.chat_postMessage(channel=channel, text=slack_message)\n",
    "\n",
    "        # save the message we just sent as our \"previous\" (or last) message\n",
    "        previous_message = slack_message\n",
    "    \n",
    "    # sleep for 5 seconds\n",
    "    time.sleep(5)\n",
    "    "
   ]
  },
  {
   "cell_type": "markdown",
   "metadata": {},
   "source": [
    "**Notice** that we still have a problem with sending the same messages if we stop and start out bot. How might we fix that? Where can we keep track of the previous messages that we've sent? Something that would be persistant in-between the bot stopping and starting?"
   ]
  },
  {
   "cell_type": "markdown",
   "metadata": {},
   "source": [
    "### End of Part 1\n",
    "\n",
    "* Part 2 will be about setting up Slack Events, flask, etc\n",
    "* Part 3 will be about building the cornoa-bot functionality (using Slack Events)"
   ]
  }
 ],
 "metadata": {
  "kernelspec": {
   "display_name": "Python 3",
   "language": "python",
   "name": "python3"
  },
  "language_info": {
   "codemirror_mode": {
    "name": "ipython",
    "version": 3
   },
   "file_extension": ".py",
   "mimetype": "text/x-python",
   "name": "python",
   "nbconvert_exporter": "python",
   "pygments_lexer": "ipython3",
   "version": "3.7.1"
  }
 },
 "nbformat": 4,
 "nbformat_minor": 2
}

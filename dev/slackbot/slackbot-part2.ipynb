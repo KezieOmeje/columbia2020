{
 "cells": [
  {
   "cell_type": "markdown",
   "metadata": {},
   "source": [
    "## Making our Bot Interactive\n",
    "\n",
    "So far, we have a simple newsbot that posts top news headlines to our Slack channel. This is a nice start but we'd really like to query our bot on demand to ask for top headlines, news from a particual site or even news about a particular topic. I won't go as far as calling it \"conversational\" but I'd like our bot to be more interactive. To be able to talk back-and-forth with our Slack bot, we have two options. We can use:\n",
    "* [Slack Events](https://api.slack.com/events-api), or\n",
    "* [Real Time Messaging](https://slack.dev/python-slackclient/real_time_messaging.html)\n",
    "\n",
    "Today, we're going to use Slack Events, which allows us to register for certain events we'd like to hear about (a Slack user sends our bot a message, or a someone adds an emoji to a Slack message, for example). When one of the events occurs, Slack will send us a message, letting us know about it. How do they send us the messages you might ask? Well, they send them to us as HTTP requests. Remember from a few lectures back we talked about making HTTP reqeusts? A client (a browser, some python code we write, etc) makes a request for some page or API on a server and the server sends back a response. Is this ringing a bell? Well, in this case, Slack will be sending us HTTP requests each time there an Event occurs that we've asked to be notified about. This means that we get to write our own web service! To do this, we'll be using a python library called [Flask](https://palletsprojects.com/p/flask/). \n",
    "\n",
    "[Flask](https://palletsprojects.com/p/flask/) is a \"*lightweight web application framework*\" that makes it easy to write web applications/APIs/web services. Let's write a simple one now and we'll get back to Slack in a minute.\n",
    "\n",
    "To get started, install the flask library:"
   ]
  },
  {
   "cell_type": "code",
   "execution_count": null,
   "metadata": {},
   "outputs": [],
   "source": [
    "!pip install flask"
   ]
  },
  {
   "cell_type": "markdown",
   "metadata": {},
   "source": [
    "The code below creates a simple web service which will \"serve\" request to the following URLs:\n",
    "\n",
    "* http://127.0.0.1:5000/\n",
    "* http://127.0.0.1:500/api\n",
    "\n",
    "You may notice something new in the code below - the `@app.route(\"/\")` above some of the functions. This is a called a \"decorator\" and it essentially extends the behavior of our functions. In this case, the `@app.route` decorator is code that exists in the Flask library and it handles a lot of the hard work of making sure what whenever a request is made to, say, `/api`, that we run the code found in the `def our_api()` method. You can read more about python decorators here: https://realpython.com/primer-on-python-decorators/"
   ]
  },
  {
   "cell_type": "code",
   "execution_count": null,
   "metadata": {},
   "outputs": [],
   "source": [
    "from flask import Flask\n",
    "\n",
    "# This `app` represents our Flask app\n",
    "app = Flask(__name__)\n",
    "\n",
    "# we can create \"routes\" which tell our app where to \"route\" incoming requests\n",
    "@app.route(\"/\")\n",
    "def hello():\n",
    "    return \"Hello there!\"\n",
    "\n",
    "# this is a simple \"/api\" endpoint\n",
    "@app.route(\"/api\")\n",
    "def our_api():\n",
    "    return \"If we had an API, it could go here!\"\n",
    "\n",
    "# start our Flask app and have it run on port 5000\n",
    "app.run(port=5000)"
   ]
  },
  {
   "cell_type": "markdown",
   "metadata": {},
   "source": [
    "**When you run the cell above, you should see:**\n",
    "\n",
    "```\n",
    "* Running on http://127.0.0.1:5000/ (Press CTRL+C to quit)\n",
    "```\n",
    "\n",
    "\n",
    "What is `127.0.0.1`? And, what's the `5000`?\n",
    "\n",
    "`127.0.0.1`, also called \"[localhost](https://en.wikipedia.org/wiki/Localhost)\", is the IP address of our computer.\n",
    "\n",
    "\n",
    "![There's no place like 127.0.0.1](https://bookofjoe.typepad.com/photos/uncategorized/2008/12/07/1htrd.jpg \"There's no place like 127.0.0.1\")\n",
    "\n",
    "As for the `5000` - that is the port number assigned to our Flask application. We communicate with our app by connecting to it via the IP address (127.0.0.1) and port number.\n",
    "\n",
    "Well-known ports include 80 for ordinary HTTP and 443 for HTTPS traffic. A port can be any number from 0 to 65535. The low numbers (below 1024) are reserved for your computer and are managed by an administrator. Ports from [1024 through 49151 are \"registered\" by IANA](https://www.iana.org/assignments/service-names-port-numbers/service-names-port-numbers.xhtml), the Internet Assigned Numbers Authority. [Here's a nice list of well-known and registered ports](https://en.wikipedia.org/wiki/List_of_TCP_and_UDP_port_numbers). (Look for 8888 and you'll see it's associated with our notebooks! Oh and look at this browser window's navigation bar to see 8888 in the address of this notebook.) Now, numbers beyond these ranges are a zoo... they are for custom, often temporary communication. They are referred to as \"private/dynamic\". \n"
   ]
  },
  {
   "cell_type": "markdown",
   "metadata": {},
   "source": [
    "### Creating a connection from Slack to our Bot\n",
    "\n",
    "Now, we'll be running the bot code on our laptop. But Slack requires bots to run behind a public HTTPS server. To accomplish this easily, we'll need some help from a tool called ngrok which will route information to and from Slack for us.\n",
    "\n",
    "At a technical level, ngrok is a command-line program that opens a secure tunnel to localhost and exposes that tunnel behind an HTTPS endpoint. ngrok makes it so Slack can talk to your code right away. \n",
    "\n",
    "<img src=\"https://cloud.githubusercontent.com/assets/32463/25376866/940435fa-299d-11e7-9ee3-08d9427417f6.png\">\n",
    "\n",
    "Follow the next three steps to install and run ngrok:\n",
    "\n",
    "1. [Download](https://ngrok.com/download) the ngrok client for your operating system.\n",
    "2. Unzip it to a location you can remember.\n",
    "3. Open up a new terminal, cd into the location, and enter:\n",
    "\n",
    "\n",
    "on Unix/Mac:\n",
    "\n",
    "      ./ngrok http 5000\n",
    "\n",
    "on Windows:\n",
    "\n",
    "      ngrok.exe http 5000\n",
    "What you should see is something like this.\n",
    "\n",
    "<img src=\"https://github.com/computationaljournalism/columbia2018/raw/master/images/ng.jpg\" style=\"width: 50%; border: #000000 1px outset;\"/>\n",
    "\n",
    "NOTE The important part of the information here is the Forwarding https address - in this case: `https://3c825e6b.ngrok.io`. You will need this in the next step."
   ]
  },
  {
   "cell_type": "markdown",
   "metadata": {},
   "source": [
    "### Slack Events\n",
    "\n",
    "First, we need to enable Slack Events in our app settings and have Slack \"verify\" us, before we're able to receive events from Slack. To do this, we need to build upon our simple Flask app and create an api endpoint (our \"route\") that Slack can call to verify that we are who we say we are. We'll do this using a python library developed by the folks at Slack. Let's install that now:"
   ]
  },
  {
   "cell_type": "code",
   "execution_count": null,
   "metadata": {},
   "outputs": [],
   "source": [
    "!pip install slackeventsapi"
   ]
  },
  {
   "cell_type": "markdown",
   "metadata": {},
   "source": [
    "We need to get our Slack signing secret, which will be used to verify our bot with Slack. This is similar to an API key but slightly different. To find it, you can:\n",
    "\n",
    "1. Go back to our [Slack App settings](https://api.slack.com/apps), and\n",
    "2. Navigate to the `Basic Information` section\n",
    "3. Scroll down to `Signing Secret` under the `App Credentials` section and hit the \"Show\" button. \n",
    "4. Copy the Signing Secret and paste it below in the `SLACK_SIGNING_SECRET` variable. \n",
    "\n",
    "\n",
    "<img src=\"https://raw.githubusercontent.com/computationaljournalism/columbia2020/master/images/bot_secret.png\" width=\"600\">\n",
    "\n",
    "Once you've done that, run the cell below to start up our Slack bot so that Slack can verify that we are legit!"
   ]
  },
  {
   "cell_type": "code",
   "execution_count": null,
   "metadata": {},
   "outputs": [],
   "source": [
    "import pprint\n",
    "from flask import Flask\n",
    "from slackeventsapi import SlackEventAdapter\n",
    "\n",
    "# This `app` represents our Flask app\n",
    "app = Flask(__name__)\n",
    "\n",
    "# slack signing secret found in: https://api.slack.com/apps\n",
    "# which is the \"Basic Information\" tab --> App Credential section --> Show Signing Secret\n",
    "SLACK_SIGNING_SECRET = \"\"\n",
    "\n",
    "slack_events_adapter = SlackEventAdapter(SLACK_SIGNING_SECRET, \"/slack/events\", app)\n",
    "\n",
    "# Start the app on port 5000\n",
    "app.run(port=5000)"
   ]
  },
  {
   "cell_type": "markdown",
   "metadata": {},
   "source": [
    "Once the above is running, we have to do a few more steps to tell Slack where to reach us. Please do the following to make sure Slack can \"verify\" our bot:\n",
    "\n",
    "1. Head back to https://api.slack.com/apps/ and navigate to `Event Subscriptions`. Toggle it on.\n",
    "2. In the Request URL field, enter your ngrok http URL (from above) and append `/slack/events` to the end of it. It should look like: https://e90229c5.ngrok.io/slack/events\n",
    "3. Click \"Save Changes\"\n",
    "\n",
    "If you see `Request URL Your URL didn't respond with the value of the challenge parameter`, make sure our bot is running below and then hit the Retry button.\n",
    "\n",
    "We're looking for a Verified ✅ next to the Request URL. Once we have this, we can move on!"
   ]
  },
  {
   "cell_type": "markdown",
   "metadata": {},
   "source": [
    "A quick note about the code above...it looks similar to our Flask app from above, but we're leveraging some additional functionality provided by the Slack Events API python library. By running the code above, our Flask app exposed an api/endpoint `http://127.0.0.1:5000/slack/events` which handles the Slack verification process for us. We'll see in a minute how this library will allow us to easily route Slack Events (e.g. someone sent my by an @mention) to code in our Flask app."
   ]
  },
  {
   "cell_type": "markdown",
   "metadata": {},
   "source": [
    "### Enabling @bot Mention Events\n",
    "\n",
    "Now that our service is verified, we can start to add Events that we'd like to receive from Slack. Since we're building a simple bot that we'd like users to interact with, let's create an Event that allows us to get a message each time someone mentions our `@newsbot` in our Slack channel. To do this:\n",
    "\n",
    "1. Head back to our Slack app settings page and click on `Event Subscriptions` in the left-hand menu\n",
    "2. Click on `Subscribe to bot events`\n",
    "3. Click the `Add Bot User Event` button\n",
    "4. Search for `app_mention` and add that event\n",
    "5. Click the green `Save Changes` button in the bottom right-hand side of the page\n",
    "6. Click on the `reinstall your app` link at the top of the screen (in the yellow message). This will redirect you back to your App Installation page. Click `Allow` which will allow your bot to have permissions for the newly create Event(s)."
   ]
  },
  {
   "cell_type": "markdown",
   "metadata": {},
   "source": [
    "**Now** let's modify our bot code to receive messages whenever our bot is @mentioned by a user. We can do this by creating a function that uses the decorator:\n",
    "```\n",
    "@slack_events_adapter.on(\"app_mention\")\n",
    "def app_mention(event_data):\n",
    "    print \"we got an app mention!\"\n",
    "```\n",
    "\n",
    "The code below will simply print out the data we receive from Slack when our bot gets an @mention. Run the following code and then send your bot some messages in your Slack channel!"
   ]
  },
  {
   "cell_type": "code",
   "execution_count": null,
   "metadata": {},
   "outputs": [],
   "source": [
    "import pprint\n",
    "\n",
    "@slack_events_adapter.on(\"app_mention\")\n",
    "def app_mention(event_data):\n",
    "    \n",
    "    # lets pretty-print the data we receive from slack\n",
    "    pprint.pprint(event_data)\n",
    "\n",
    "# Start the app on port 5000\n",
    "app.run(port=5000)"
   ]
  },
  {
   "cell_type": "markdown",
   "metadata": {},
   "source": [
    "Now that we're able to receive @mentions from Slack, let's update our code to send a message back to the channel where the @mention came from. To do this, we'll use the slack \"WebClient\" that we used earlier in class. In this case, we'll simply extract the channel ID from the Slack message and send a quick message back:"
   ]
  },
  {
   "cell_type": "code",
   "execution_count": null,
   "metadata": {},
   "outputs": [],
   "source": [
    "# let's add back our slack WebClient\n",
    "# which allows us to post messages back to Slack\n",
    "slack_client = slack.WebClient(token=SLACK_API_TOKEN)\n",
    "\n",
    "@slack_events_adapter.on(\"app_mention\")\n",
    "def app_mention(event_data):\n",
    "    \n",
    "    # pretty-print the data we receive from slack\n",
    "    pprint.pprint(event_data)\n",
    "\n",
    "    # lets get the channel ID from the incoming message\n",
    "    # and send \"Hi there!\" back to that channel\n",
    "    channel = event_data[\"event\"][\"channel\"]\n",
    "    \n",
    "    response = slack_client.chat_postMessage(channel=channel, text=\"Hi there!\")\n",
    "\n",
    "# Start the app on port 5000\n",
    "app.run(port=5000)"
   ]
  },
  {
   "cell_type": "code",
   "execution_count": null,
   "metadata": {},
   "outputs": [],
   "source": []
  },
  {
   "cell_type": "markdown",
   "metadata": {},
   "source": []
  },
  {
   "cell_type": "code",
   "execution_count": null,
   "metadata": {},
   "outputs": [],
   "source": []
  },
  {
   "cell_type": "code",
   "execution_count": null,
   "metadata": {},
   "outputs": [],
   "source": []
  }
 ],
 "metadata": {
  "kernelspec": {
   "display_name": "Python 3",
   "language": "python",
   "name": "python3"
  },
  "language_info": {
   "codemirror_mode": {
    "name": "ipython",
    "version": 3
   },
   "file_extension": ".py",
   "mimetype": "text/x-python",
   "name": "python",
   "nbconvert_exporter": "python",
   "pygments_lexer": "ipython3",
   "version": "3.7.4"
  }
 },
 "nbformat": 4,
 "nbformat_minor": 2
}

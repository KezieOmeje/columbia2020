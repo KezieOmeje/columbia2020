{
 "cells": [
  {
   "cell_type": "markdown",
   "metadata": {},
   "source": [
    "### Part 3\n",
    "\n",
    "* Part 2 left off with us running a simple flask-based app to receive messages from our bot with @mentions and just sending a simple message back to the channel. From here, we'll build out the corono-bot listening for events and responding.\n",
    "\n",
    "You'll probably need the following (which is in part-1 and part-2)\n"
   ]
  },
  {
   "cell_type": "code",
   "execution_count": null,
   "metadata": {},
   "outputs": [],
   "source": [
    "import slack\n",
    "from flask import Flask\n",
    "from slackeventsapi import SlackEventAdapter\n"
   ]
  },
  {
   "cell_type": "code",
   "execution_count": null,
   "metadata": {},
   "outputs": [],
   "source": [
    "# our slack api token\n",
    "# copy this from the OAuth & Permissions --> \"Bot User OAuth Access Token\"\n",
    "SLACK_API_TOKEN = \"\"\n",
    "\n",
    "# slack signing secret found in: https://api.slack.com/apps\n",
    "# which is the \"Basic Information\" tab --> App Credential section --> Show Signing Secret\n",
    "SLACK_SIGNING_SECRET = \"\"\n"
   ]
  },
  {
   "cell_type": "code",
   "execution_count": null,
   "metadata": {},
   "outputs": [],
   "source": [
    "import pprint\n",
    "\n",
    "# This `app` represents our Flask app\n",
    "app = Flask(__name__)\n",
    "\n",
    "# let's add back our slack WebClient\n",
    "# which allows us to post messages back to Slack\n",
    "slack_client = slack.WebClient(token=SLACK_API_TOKEN)\n",
    "\n",
    "slack_events_adapter = SlackEventAdapter(SLACK_SIGNING_SECRET, \"/slack/events\", app)\n",
    "\n",
    "@slack_events_adapter.on(\"app_mention\")\n",
    "def app_mention(event_data):\n",
    "    pprint.pprint(event_data)\n",
    "\n",
    "    # lets get the channel ID from the incoming message\n",
    "    # and send \"Hi there!\" back to that channel\n",
    "    #channel = event_data[\"event\"][\"channel\"]\n",
    "    #response = slack_client.chat_postMessage(channel=channel, text=\"Hi there!\")\n",
    "    \n",
    "    \n",
    "    # Mark: here is where you can build out the corono-bot reponses based on incoming messages\n",
    "\n",
    "# Start the app on port 5000\n",
    "app.run(port=5000)"
   ]
  },
  {
   "cell_type": "code",
   "execution_count": null,
   "metadata": {},
   "outputs": [],
   "source": []
  },
  {
   "cell_type": "code",
   "execution_count": null,
   "metadata": {},
   "outputs": [],
   "source": []
  },
  {
   "cell_type": "code",
   "execution_count": null,
   "metadata": {},
   "outputs": [],
   "source": []
  }
 ],
 "metadata": {
  "kernelspec": {
   "display_name": "Python 3",
   "language": "python",
   "name": "python3"
  },
  "language_info": {
   "codemirror_mode": {
    "name": "ipython",
    "version": 3
   },
   "file_extension": ".py",
   "mimetype": "text/x-python",
   "name": "python",
   "nbconvert_exporter": "python",
   "pygments_lexer": "ipython3",
   "version": "3.7.4"
  }
 },
 "nbformat": 4,
 "nbformat_minor": 2
}

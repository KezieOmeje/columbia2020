{
 "cells": [
  {
   "cell_type": "markdown",
   "metadata": {},
   "source": [
    "## Let's create a bot....\n",
    "\n",
    "![Newsbot](https://static.vecteezy.com/system/resources/previews/000/518/290/non_2x/ai-artificial-intelligence-technology-robot-cartoon-001-vector.jpg)\n",
    "\n",
    "During today's class, we're going to learn how to create a Slack bot. You'll be able to take the bots which you've been prototyping (and hopefully starting to build in code) and turn them into Slack bots. In our next class (after Spring Break 🌴), we'll learn how to move these bots off of our laptop and into the cloud (where they can run 24x7, even while we sleep).\n",
    "\n",
    "To illustrate some simple bot concepts and how we'll integrate with the Slack APIs and libraries, we're going to build a simple bot related to the coronavirus. Once we learn the Slack bot basics, we'll have you move your bot ideas to Slack.\n",
    "\n",
    "**Ok, let's get started....**\n",
    "\n",
    "For our simple bot, we have a few basic **requirements**:\n",
    "\n",
    "1. We'd like to be able to ask it for the latest statistics on the virus\n",
    "2. We'd like to be able to ask it for the most recent statistics from different parts of the world\n",
    "3. We'd like to be able to get the latest news on the coronavirus\n",
    "\n",
    "\n",
    "e.g.:\n",
    "```\n",
    "@covidbot confirmed\n",
    "@covidbot recovered\n",
    "@covidbot news about coronavirus\n",
    "```\n",
    "\n",
    "We're going to build this bot on Slack but we'd like to easily \"port\" it to Alexa as well. "
   ]
  },
  {
   "cell_type": "markdown",
   "metadata": {},
   "source": [
    "### Before we get to the corona-bot...\n",
    "\n",
    "Before we get to the coronavirus bot, explore some simple bot concepts using the News API as a source of data. If you are looking to build a simple news bot, this might be helpful!\n",
    "\n",
    "<img src=\"https://external-preview.redd.it/5TUMGrd5nfl7nYnA9RosPBR9l1PUMIMeYplMAtE9oNQ.png?width=960&crop=smart&auto=webp&s=bfd95c6af23083aa439eff0b632a40fcd9475ea0\" width=\"800\">\n",
    "\n",
    "We're going to use a nice service call the [News API](https://newsapi.org/). The News API is a service which allows us to: \"*Get breaking news headlines, and search for articles from over 30,000 news sources and blogs with our news API*\". It provides simple searching access to a large number of news services.\n",
    "\n",
    "**Please** sign up for an API key - you'll need it in the code below: https://newsapi.org/register\n",
    "\n",
    "The nice folks at News API have written a [python library](https://newsapi.org/docs/client-libraries/python) so that we can easily call their API. Let's install that now:"
   ]
  },
  {
   "cell_type": "code",
   "execution_count": null,
   "metadata": {},
   "outputs": [],
   "source": [
    "!pip install newsapi-python"
   ]
  },
  {
   "cell_type": "markdown",
   "metadata": {},
   "source": [
    "Now, let's look at how we can call the News API to get the various news we'll need to handle our bot interactions. Remember, we want out bot to be able to fetch:\n",
    "\n",
    "1. Top stories\n",
    "2. The latest stories from a given site or domain name.\n",
    "3. Search for latest stories given a term/topic.\n",
    "\n",
    "\n",
    "To get the top headlines from the News API, we can do the following:"
   ]
  },
  {
   "cell_type": "code",
   "execution_count": null,
   "metadata": {},
   "outputs": [],
   "source": [
    "# import the NewsApiClient\n",
    "from newsapi import NewsApiClient\n",
    "\n",
    "# put your News API key here\n",
    "NEWSAPI_KEY = ''\n",
    "\n",
    "newsapi = NewsApiClient(api_key=NEWSAPI_KEY)\n",
    "\n",
    "# this is how we call the news api to get the top headlines in the US (english)\n",
    "top_headlines = newsapi.get_top_headlines(language='en', country='us')"
   ]
  },
  {
   "cell_type": "markdown",
   "metadata": {},
   "source": [
    "What sort of python object are we working with?"
   ]
  },
  {
   "cell_type": "code",
   "execution_count": null,
   "metadata": {},
   "outputs": [],
   "source": [
    "type(top_headlines)"
   ]
  },
  {
   "cell_type": "markdown",
   "metadata": {},
   "source": [
    "Let's inspect the dictionary a bit:"
   ]
  },
  {
   "cell_type": "code",
   "execution_count": null,
   "metadata": {},
   "outputs": [],
   "source": [
    "top_headlines.keys()"
   ]
  },
  {
   "cell_type": "markdown",
   "metadata": {},
   "source": [
    "It looks like we have three fields: `status`, `totalResults` and `articles`. Let's print them out and see what they look like:"
   ]
  },
  {
   "cell_type": "code",
   "execution_count": null,
   "metadata": {},
   "outputs": [],
   "source": [
    "top_headlines['status']"
   ]
  },
  {
   "cell_type": "code",
   "execution_count": null,
   "metadata": {},
   "outputs": [],
   "source": [
    "top_headlines['totalResults']"
   ]
  },
  {
   "cell_type": "markdown",
   "metadata": {},
   "source": [
    "Let's look at `articles` - what type is it?"
   ]
  },
  {
   "cell_type": "code",
   "execution_count": null,
   "metadata": {},
   "outputs": [],
   "source": [
    "type(top_headlines['articles'])"
   ]
  },
  {
   "cell_type": "markdown",
   "metadata": {},
   "source": [
    "How would we print out the first article?"
   ]
  },
  {
   "cell_type": "code",
   "execution_count": null,
   "metadata": {},
   "outputs": [],
   "source": [
    "# Your Turn: how would we print out the first article?\n",
    "\n",
    "\n"
   ]
  },
  {
   "cell_type": "markdown",
   "metadata": {},
   "source": [
    "The article dictionary has a lot of great info: title, description, url, image, published date and \"source\"."
   ]
  },
  {
   "cell_type": "code",
   "execution_count": null,
   "metadata": {},
   "outputs": [],
   "source": [
    "# Your Turn: loop over the articles, printing out the title, source name and published date\n",
    "\n",
    "\n"
   ]
  },
  {
   "cell_type": "markdown",
   "metadata": {},
   "source": [
    "### Now, let's see how we get the top stories for a given news site:\n",
    "\n",
    "News API has an API called \"[everything](https://newsapi.org/docs/endpoints/everything)\" which allows us to pass in a domain and get all of the news from that domain/site. Here is how we get the latest news from the Washington Post:"
   ]
  },
  {
   "cell_type": "code",
   "execution_count": null,
   "metadata": {},
   "outputs": [],
   "source": [
    "# top headlines from WaPo\n",
    "top_headlines = newsapi.get_everything(domains='washingtonpost.com', language='en')\n",
    "\n",
    "for article in top_headlines['articles']:\n",
    "    print(article['title'])\n",
    "    print(article['source']['name'])\n",
    "    print(article['publishedAt'])\n",
    "    print('---'*10)"
   ]
  },
  {
   "cell_type": "markdown",
   "metadata": {},
   "source": [
    "### Last, how do we get the latest articles for a given search query:\n",
    "\n",
    "Here is how we'd search for top stories for a given query. In this case, let's look for the news on the \"coronavirus\":"
   ]
  },
  {
   "cell_type": "code",
   "execution_count": null,
   "metadata": {},
   "outputs": [],
   "source": [
    "query = 'coronavirus'\n",
    "\n",
    "top_headlines = newsapi.get_top_headlines(q=query, language='en')\n",
    "\n",
    "for article in top_headlines['articles']:\n",
    "    print(article['title'])\n",
    "    print(article['source']['name'])\n",
    "    print(article['publishedAt'])\n",
    "    print('---'*10)"
   ]
  },
  {
   "cell_type": "markdown",
   "metadata": {},
   "source": [
    "## Now, let's get to work on our Slack bot\n",
    "\n",
    "Now that we have the news-side of our bot (mostly) worked out, let's start on our Slack integration."
   ]
  },
  {
   "cell_type": "markdown",
   "metadata": {},
   "source": [
    "**First**, let's create our news bot on Slack:\n",
    "\n",
    "Make sure you are logged into slack.com with your account you're using for this class and head to [api.slack.com](https://api.slack.com/apps?new_granular_bot_app=1) to create your own bot. Fill out the form by using a clever bot name (you can't all use the same name!) and selecting `Computational Journalism 2020` from the Workspace dropdown. If you don't see \"Computational Journalism 2020\" in the Workspace dropdown menu, you may need to log back in under a different email/account.\n",
    "\n",
    "<img src=\"https://raw.githubusercontent.com/computationaljournalism/columbia2020/master/images/bot_create.png\" width=\"500\">"
   ]
  },
  {
   "cell_type": "markdown",
   "metadata": {},
   "source": [
    "**Next**, we need to give our app permissions so that it can post messages to Slack:\n",
    "\n",
    "Navigate to `OAuth & Permissions` on the sidebar and scroll down to the `Bot Token Scopes` section. `Scopes` give your app permission to do things (for example, post messages). \n",
    "\n",
    "Click on `Add an OAth Scope`.\n",
    "\n",
    "Add the `chat:write` scope to grant your app the permission to post messages in channels it's a member of.\n",
    "\n",
    "<img src=\"https://raw.githubusercontent.com/computationaljournalism/columbia2020/master/images/bot_scopes.png\" width=\"500\">"
   ]
  },
  {
   "cell_type": "markdown",
   "metadata": {},
   "source": [
    "**Now**, scroll back up to the top of the `OAuth & Permissions` screen and click on the green `Install App to Workspace` button.\n",
    "\n",
    "<img src=\"https://raw.githubusercontent.com/computationaljournalism/columbia2020/master/images/bot_install.png\" width=\"500\">\n",
    "\n",
    "You should see a prompt that looks like the following - click `Allow` so that your bot can be installed into our Computational Journalism Slack \"workplace.\"\n",
    "\n",
    "<img src=\"https://raw.githubusercontent.com/computationaljournalism/columbia2020/master/images/bot_allow.png\" width=\"500\">"
   ]
  },
  {
   "cell_type": "markdown",
   "metadata": {},
   "source": [
    "**Important!!**\n",
    "\n",
    "Copy the `Bot User OAuth Access Token` - this will be our API token! We'll use it in the code below!\n",
    "\n",
    "<img src=\"https://raw.githubusercontent.com/computationaljournalism/columbia2020/master/images/bot_token.png\" width=\"600\">"
   ]
  },
  {
   "cell_type": "markdown",
   "metadata": {},
   "source": [
    "**Last...**\n",
    "\n",
    "As we develop our bot, each of us will create a new channel in Slack that we can use as our own \"sandbox.\" We need a place to test out our bot (without annoying our classmates!) so go ahead and create a channel with your name in it, like `mikes-bot` or `marks-bot`.\n",
    "\n",
    "After creating your channel, go to that channel and invite your bot to the channel. You can do it by typing `/invite` followed by your bot's name. For example, if I wanted to invite `@newsbot` to my channel, I'd type:\n",
    "\n",
    "```\n",
    "/invite @newsbot\n",
    "```\n",
    "\n",
    "After doing this, you should see a note saying: `Your bot was added to [your channel] by [you].`\n",
    "\n",
    "<img src=\"https://raw.githubusercontent.com/computationaljournalism/columbia2020/master/images/bot_invite.png\">"
   ]
  },
  {
   "cell_type": "markdown",
   "metadata": {},
   "source": [
    "**Great!!** 🎉🎉\n",
    "\n",
    "We're almost there! Now, let's install the Slack python library which makes it easy to post message to slack. To install Slack's python library, run the following:"
   ]
  },
  {
   "cell_type": "code",
   "execution_count": null,
   "metadata": {},
   "outputs": [],
   "source": [
    "!pip install slackclient"
   ]
  },
  {
   "cell_type": "markdown",
   "metadata": {},
   "source": [
    "### Sending our first message to Slack\n",
    "\n",
    "To send a message from our bot (notebook) to Slack, you can update a few variables below and fire away. You'll need to:\n",
    "\n",
    "1. add your API token/key, which you copied above, to the `SLACK_API_TOKEN` variable,\n",
    "2. update the `channel` variable with the name of the channel that you just created. Make sure that it starts with `#`. For example, `#mike-test`.\n",
    "3. feel free to update the `slack_message` variable - this is what your bot will post to your channel.\n",
    "\n"
   ]
  },
  {
   "cell_type": "code",
   "execution_count": null,
   "metadata": {
    "scrolled": true
   },
   "outputs": [],
   "source": [
    "import slack\n",
    "\n",
    "# our slack api token\n",
    "# copy this from the OAuth & Permissions --> \"Bot User OAuth Access Token\"\n",
    "SLACK_API_TOKEN = \"\"\n",
    "\n",
    "# initialize our slack api client\n",
    "slack_client = slack.WebClient(token=SLACK_API_TOKEN)\n",
    "\n",
    "# put your slack channel here, like #mike-test\n",
    "channel = \"\"\n",
    "slack_message = \"Hello!\"\n",
    "\n",
    "# post a message to a channel\n",
    "response = slack_client.chat_postMessage(channel=channel, text=slack_message)\n",
    "\n",
    "print(response)"
   ]
  },
  {
   "cell_type": "markdown",
   "metadata": {},
   "source": [
    "### Do you get an error?\n",
    "\n",
    "If you see an error that says something like `The request to the Slack API failed`, you may not have completed your bot setup properly. \n",
    "\n",
    "```\n",
    "SlackApiError: The request to the Slack API failed.\n",
    "The server responded with: {'ok': False, 'error': 'missing_scope', 'needed': 'chat:write:bot', 'provided': 'calls:write'}\n",
    "```\n",
    "\n",
    "\n",
    "Most likely, you'll see an error message that says the following:\n",
    "\n",
    "```\n",
    "RuntimeError: This event loop is already running\n",
    "```\n",
    "\n",
    "To make this go away, we're going to add a bit of code to get around this error. Let's install this library first:"
   ]
  },
  {
   "cell_type": "code",
   "execution_count": null,
   "metadata": {},
   "outputs": [],
   "source": [
    "# https://github.com/erdewit/nest_asyncio\n",
    "!pip install nest_asyncio"
   ]
  },
  {
   "cell_type": "code",
   "execution_count": null,
   "metadata": {},
   "outputs": [],
   "source": [
    "import slack\n",
    "\n",
    "# to play nicely with Jupyter notebook\n",
    "import asyncio\n",
    "import nest_asyncio\n",
    "\n",
    "nest_asyncio.apply()\n",
    "# end of playing nice\n",
    "\n",
    "# initialize our slack api client\n",
    "slack_client = slack.WebClient(token=SLACK_API_TOKEN)\n",
    "\n",
    "# put your slack channel here, like #mike-test\n",
    "channel = \"\"\n",
    "slack_message = \"Hello!\"\n",
    "\n",
    "# post a message to a channel\n",
    "response = slack_client.chat_postMessage(channel=channel, text=slack_message)\n",
    "\n",
    "print(response)"
   ]
  },
  {
   "cell_type": "markdown",
   "metadata": {},
   "source": [
    "### Great! Now, let's make something a bit more useful...\n",
    "\n",
    "Let's imagine we want to have our newsbot send us top headlines a few times a day...alertings us when the News API has a new top headline. \n",
    "\n",
    "To do this, how might we have our bot run forever, waking up every so often? The following code will loop \"forever\", pausing for 5 seconds each time it runs:"
   ]
  },
  {
   "cell_type": "code",
   "execution_count": null,
   "metadata": {},
   "outputs": [],
   "source": [
    "import time\n",
    "\n",
    "# a loop that runs \"forever\"\n",
    "while True:\n",
    "\n",
    "    print(\"hello\")\n",
    "\n",
    "    # sleep for 5 seconds\n",
    "    time.sleep(5)"
   ]
  },
  {
   "cell_type": "markdown",
   "metadata": {},
   "source": [
    "To stop this, make sure you click the Stop icon `[]` in the notebook menu.\n",
    "\n",
    "**Detour on while loops**\n",
    "\n",
    "We have already seen `for` loops that iterate over a fixed set of items, say elements in a list. A `while` loop continues executing until the condition its testing for is no longer true. To make this real, let's consider tossing coins. We can simulate a coin toss with the `choice()` function in the `random` package."
   ]
  },
  {
   "cell_type": "code",
   "execution_count": null,
   "metadata": {},
   "outputs": [],
   "source": [
    "from random import choice\n",
    "\n",
    "# a coin is just a list with two options - heads or tails\n",
    "coin = [\"Heads\",\"Tails\"]\n",
    "\n",
    "# a toss is a random selection between these choices\n",
    "toss = choice(coin)\n",
    "\n",
    "# have a look -- do this several times\n",
    "toss"
   ]
  },
  {
   "cell_type": "markdown",
   "metadata": {},
   "source": [
    "Now, we can use the `while` loop toss a coin until we see five heads in total. We'll stop once we see the fifth head. Here's a simple loop."
   ]
  },
  {
   "cell_type": "code",
   "execution_count": null,
   "metadata": {},
   "outputs": [],
   "source": [
    "total_tosses = 0\n",
    "total_heads = 0\n",
    "\n",
    "while total_heads < 5:\n",
    "    \n",
    "    # keep track of the number of times we toss the coin\n",
    "    total_tosses += 1\n",
    "    \n",
    "    # toss it\n",
    "    toss = choice(coin)\n",
    "    \n",
    "    # test if its heads, and if so, increment the number of heads we've seen\n",
    "    \n",
    "    if toss == \"Heads\":\n",
    "        total_heads += 1\n",
    "        \n",
    "# print out how many tosses we needed to see 5 heads\n",
    "\n",
    "print(total_tosses)"
   ]
  },
  {
   "cell_type": "markdown",
   "metadata": {},
   "source": [
    "**Back to our bot**\n",
    "\n",
    "Ok, let's expand on that a bit and post a message to our Slack channel every few seconds. We're introducing a new python library here called the [datetime](https://docs.python.org/3/library/datetime.html) library. This is a very powerful library for dealing with, well, dates and times. We simply using it to print out the current time (\"now\")."
   ]
  },
  {
   "cell_type": "code",
   "execution_count": null,
   "metadata": {},
   "outputs": [],
   "source": [
    "from datetime import datetime\n",
    "\n",
    "# we're assuming you set the channel variable in a cell above\n",
    "#channel = \"#mike-test\"\n",
    "\n",
    "while True:\n",
    "\n",
    "    # create a message that says \"hello, the time is now 2020-03-11 12:34:00\"\n",
    "    slack_message = \"hello, the time is now \" + str(datetime.now())\n",
    "\n",
    "    # post the message to our Slack channel\n",
    "    response = slack_client.chat_postMessage(channel=channel, text=slack_message)\n",
    "\n",
    "    print(response)\n",
    "    \n",
    "    # sleep for 5 seconds\n",
    "    time.sleep(5)"
   ]
  },
  {
   "cell_type": "markdown",
   "metadata": {},
   "source": [
    "Again, make sure you hit the Stop button above to have your bot stop spamming you!\n",
    "\n",
    "\n",
    "Let's update our simple bot just a bit and post the top headline from the News API each time it runs:"
   ]
  },
  {
   "cell_type": "code",
   "execution_count": null,
   "metadata": {},
   "outputs": [],
   "source": [
    "# let's call the news api for the top headlines\n",
    "newsapi = NewsApiClient(api_key=NEWSAPI_KEY)\n",
    "\n",
    "# let's loop forever\n",
    "while True:\n",
    "\n",
    "    # get the top headline from the news api\n",
    "    top_headlines = newsapi.get_top_headlines(language='en', country='us')\n",
    "\n",
    "    # get the first headline in the list\n",
    "    top_headline = top_headlines['articles'][0]\n",
    "\n",
    "    # build a slack message with the title and url\n",
    "    slack_message = top_headline['title'] + ' ' + top_headline['url']\n",
    "\n",
    "    # post the headline to our slack channel\n",
    "    response = slack_client.chat_postMessage(channel=channel, text=slack_message)\n",
    "\n",
    "    # sleep for 5 seconds\n",
    "    time.sleep(5)\n",
    "    "
   ]
  },
  {
   "cell_type": "markdown",
   "metadata": {},
   "source": [
    "Well, that's not quite right! 🙃 We don't want out bot spamming us with the same headline every 5 seconds! What we'd really like is for our bot to post a headline to Slack only when it changes (i.e. when there is a new top headline). What's a technique that we can use to make sure we don't send the message over and over again?"
   ]
  },
  {
   "cell_type": "code",
   "execution_count": null,
   "metadata": {},
   "outputs": [],
   "source": [
    "# let's modify the code to only post a message to slack when we have a new message\n",
    "\n",
    "newsapi = NewsApiClient(api_key=NEWSAPI_KEY)\n",
    "\n",
    "# keep track of the last/previous message we sent to slack\n",
    "# we will initialize this to an empty string\n",
    "previous_message = \"\"\n",
    "\n",
    "while True:\n",
    "\n",
    "    # get the top headline from the news api\n",
    "    top_headlines = newsapi.get_top_headlines(language='en', country='us')\n",
    "\n",
    "    top_headline = top_headlines['articles'][0]\n",
    "\n",
    "    # build a slack message with the title and url\n",
    "    slack_message = top_headline['title'] + ' ' + top_headline['url']\n",
    "\n",
    "    # have we sent this one before?\n",
    "    if slack_message == previous_message:\n",
    "        print('we have already sent this message: ' + slack_message)\n",
    "    else:\n",
    "        # it's a new article! let's post it to our slack channel\n",
    "        response = slack_client.chat_postMessage(channel=channel, text=slack_message)\n",
    "\n",
    "        # save the message we just sent as our \"previous\" (or last) message\n",
    "        previous_message = slack_message\n",
    "    \n",
    "    # sleep for 5 seconds\n",
    "    time.sleep(5)\n",
    "    "
   ]
  },
  {
   "cell_type": "markdown",
   "metadata": {},
   "source": [
    "**Notice** that we still have a problem with sending the same messages if we stop and start out bot. How might we fix that? Where can we keep track of the previous messages that we've sent? Something that would be persistant in-between the bot stopping and starting?"
   ]
  },
  {
   "cell_type": "markdown",
   "metadata": {},
   "source": [
    "## Making our Bot Interactive\n",
    "\n",
    "So far, we have a simple newsbot that posts top news headlines to our Slack channel. This is a nice start but we'd really like to query our bot on demand to ask for top headlines, news from a particual site or even news about a particular topic. I won't go as far as calling it \"conversational\" but I'd like our bot to be more interactive. To be able to talk back-and-forth with our Slack bot, we have two options. We can use:\n",
    "* [Slack Events](https://api.slack.com/events-api), or\n",
    "* [Real Time Messaging](https://slack.dev/python-slackclient/real_time_messaging.html)\n",
    "\n",
    "Today, we're going to use Slack Events, which allows us to register for certain events we'd like to hear about (a Slack user sends our bot a message, or a someone adds an emoji to a Slack message, for example). When one of the events occurs, Slack will send us a message, letting us know about it. How do they send us the messages you might ask? Well, they send them to us as HTTP requests. Remember from a few lectures back we talked about making HTTP reqeusts? A client (a browser, some python code we write, etc) makes a request for some page or API on a server and the server sends back a response. Is this ringing a bell? Well, in this case, Slack will be sending us HTTP requests each time there an Event occurs that we've asked to be notified about. This means that we get to write our own web service! To do this, we'll be using a python library called [Flask](https://palletsprojects.com/p/flask/). \n",
    "\n",
    "[Flask](https://palletsprojects.com/p/flask/) is a \"*lightweight web application framework*\" that makes it easy to write web applications/APIs/web services. Let's write a simple one now and we'll get back to Slack in a minute.\n",
    "\n",
    "To get started, install the flask library:"
   ]
  },
  {
   "cell_type": "code",
   "execution_count": null,
   "metadata": {},
   "outputs": [],
   "source": [
    "!pip install flask"
   ]
  },
  {
   "cell_type": "markdown",
   "metadata": {},
   "source": [
    "The code below creates a simple web service which will \"serve\" request to the following URLs:\n",
    "\n",
    "* http://127.0.0.1:5000/\n",
    "* http://127.0.0.1:500/api\n",
    "\n",
    "You may notice something new in the code below - the `@app.route(\"/\")` above some of the functions. This is a called a \"decorator\" and it essentially extends the behavior of our functions. In this case, the `@app.route` decorator is code that exists in the Flask library and it handles a lot of the hard work of making sure what whenever a request is made to, say, `/api`, that we run the code found in the `def our_api()` method. You can read more about python decorators here: https://realpython.com/primer-on-python-decorators/"
   ]
  },
  {
   "cell_type": "code",
   "execution_count": null,
   "metadata": {},
   "outputs": [],
   "source": [
    "from flask import Flask\n",
    "\n",
    "# This `app` represents our Flask app\n",
    "app = Flask(__name__)\n",
    "\n",
    "# we can create \"routes\" which tell our app where to \"route\" incoming requests\n",
    "@app.route(\"/\")\n",
    "def hello():\n",
    "    return \"Hello there!\"\n",
    "\n",
    "# this is a simple \"/api\" endpoint\n",
    "@app.route(\"/api\")\n",
    "def our_api():\n",
    "    return \"If we had an API, it could go here!\"\n",
    "\n",
    "# start our Flask app and have it run on port 5000\n",
    "app.run(port=5000)"
   ]
  },
  {
   "cell_type": "markdown",
   "metadata": {},
   "source": [
    "**When you run the cell above, you should see:**\n",
    "\n",
    "```\n",
    "* Running on http://127.0.0.1:5000/ (Press CTRL+C to quit)\n",
    "```\n",
    "\n",
    "\n",
    "What is `127.0.0.1`? And, what's the `5000`?\n",
    "\n",
    "`127.0.0.1`, also called \"[localhost](https://en.wikipedia.org/wiki/Localhost)\", is the IP address of our computer.\n",
    "\n",
    "\n",
    "![There's no place like 127.0.0.1](https://bookofjoe.typepad.com/photos/uncategorized/2008/12/07/1htrd.jpg \"There's no place like 127.0.0.1\")\n",
    "\n",
    "As for the `5000` - that is the port number assigned to our Flask application. We communicate with our app by connecting to it via the IP address (127.0.0.1) and port number.\n",
    "\n",
    "Well-known ports include 80 for ordinary HTTP and 443 for HTTPS traffic. A port can be any number from 0 to 65535. The low numbers (below 1024) are reserved for your computer and are managed by an administrator. Ports from [1024 through 49151 are \"registered\" by IANA](https://www.iana.org/assignments/service-names-port-numbers/service-names-port-numbers.xhtml), the Internet Assigned Numbers Authority. [Here's a nice list of well-known and registered ports](https://en.wikipedia.org/wiki/List_of_TCP_and_UDP_port_numbers). (Look for 8888 and you'll see it's associated with our notebooks! Oh and look at this browser window's navigation bar to see 8888 in the address of this notebook.) Now, numbers beyond these ranges are a zoo... they are for custom, often temporary communication. They are referred to as \"private/dynamic\". \n"
   ]
  },
  {
   "cell_type": "markdown",
   "metadata": {},
   "source": [
    "### Creating a connection from Slack to our Bot\n",
    "\n",
    "Now, we'll be running the bot code on our laptop. But Slack requires bots to run behind a public HTTPS server. To accomplish this easily, we'll need some help from a tool called ngrok which will route information to and from Slack for us.\n",
    "\n",
    "At a technical level, ngrok is a command-line program that opens a secure tunnel to localhost and exposes that tunnel behind an HTTPS endpoint. ngrok makes it so Slack can talk to your code right away. \n",
    "\n",
    "<img src=\"https://cloud.githubusercontent.com/assets/32463/25376866/940435fa-299d-11e7-9ee3-08d9427417f6.png\">\n",
    "\n",
    "Follow the next three steps to install and run ngrok:\n",
    "\n",
    "1. [Download](https://ngrok.com/download) the ngrok client for your operating system.\n",
    "2. Unzip it to a location you can remember.\n",
    "3. Open up a new terminal, cd into the location, and enter:\n",
    "\n",
    "\n",
    "on Unix/Mac:\n",
    "\n",
    "      ./ngrok http 5000\n",
    "\n",
    "on Windows:\n",
    "\n",
    "      ngrok.exe http 5000\n",
    "What you should see is something like this.\n",
    "\n",
    "<img src=\"https://github.com/computationaljournalism/columbia2018/raw/master/images/ng.jpg\" style=\"width: 50%; border: #000000 1px outset;\"/>\n",
    "\n",
    "NOTE The important part of the information here is the Forwarding https address - in this case: `https://3c825e6b.ngrok.io`. You will need this in the next step."
   ]
  },
  {
   "cell_type": "markdown",
   "metadata": {},
   "source": [
    "### Slack Events\n",
    "\n",
    "First, we need to enable Slack Events in our app settings and have Slack \"verify\" us, before we're able to receive events from Slack. To do this, we need to build upon our simple Flask app and create an api endpoint (our \"route\") that Slack can call to verify that we are who we say we are. We'll do this using a python library developed by the folks at Slack. Let's install that now:"
   ]
  },
  {
   "cell_type": "code",
   "execution_count": null,
   "metadata": {},
   "outputs": [],
   "source": [
    "!pip install slackeventsapi"
   ]
  },
  {
   "cell_type": "markdown",
   "metadata": {},
   "source": [
    "We need to get our Slack signing secret, which will be used to verify our bot with Slack. This is similar to an API key but slightly different. To find it, you can:\n",
    "\n",
    "1. Go back to our [Slack App settings](https://api.slack.com/apps), and\n",
    "2. Navigate to the `Basic Information` section\n",
    "3. Scroll down to `Signing Secret` under the `App Credentials` section and hit the \"Show\" button. \n",
    "4. Copy the Signing Secret and paste it below in the `SLACK_SIGNING_SECRET` variable. \n",
    "\n",
    "\n",
    "<img src=\"https://raw.githubusercontent.com/computationaljournalism/columbia2020/master/images/bot_secret.png\" width=\"600\">\n",
    "\n",
    "Once you've done that, run the cell below to start up our Slack bot so that Slack can verify that we are legit!"
   ]
  },
  {
   "cell_type": "code",
   "execution_count": null,
   "metadata": {},
   "outputs": [],
   "source": [
    "import pprint\n",
    "from flask import Flask\n",
    "from slackeventsapi import SlackEventAdapter\n",
    "\n",
    "# This `app` represents our Flask app\n",
    "app = Flask(__name__)\n",
    "\n",
    "# slack signing secret found in: https://api.slack.com/apps\n",
    "# which is the \"Basic Information\" tab --> App Credential section --> Show Signing Secret\n",
    "SLACK_SIGNING_SECRET = \"\"\n",
    "\n",
    "slack_events_adapter = SlackEventAdapter(SLACK_SIGNING_SECRET, \"/slack/events\", app)\n",
    "\n",
    "# Start the app on port 5000\n",
    "app.run(port=5000)"
   ]
  },
  {
   "cell_type": "markdown",
   "metadata": {},
   "source": [
    "Once the above is running, we have to do a few more steps to tell Slack where to reach us. Please do the following to make sure Slack can \"verify\" our bot:\n",
    "\n",
    "1. Head back to https://api.slack.com/apps/ and navigate to `Event Subscriptions`. Toggle it on.\n",
    "2. In the Request URL field, enter your ngrok http URL (from above) and append `/slack/events` to the end of it. It should look like: https://e90229c5.ngrok.io/slack/events\n",
    "3. Click \"Save Changes\"\n",
    "\n",
    "If you see `Request URL Your URL didn't respond with the value of the challenge parameter`, make sure our bot is running below and then hit the Retry button.\n",
    "\n",
    "We're looking for a Verified ✅ next to the Request URL. Once we have this, we can move on!"
   ]
  },
  {
   "cell_type": "markdown",
   "metadata": {},
   "source": [
    "A quick note about the code above...it looks similar to our Flask app from above, but we're leveraging some additional functionality provided by the Slack Events API python library. By running the code above, our Flask app exposed an api/endpoint `http://127.0.0.1:5000/slack/events` which handles the Slack verification process for us. We'll see in a minute how this library will allow us to easily route Slack Events (e.g. someone sent my by an @mention) to code in our Flask app."
   ]
  },
  {
   "cell_type": "markdown",
   "metadata": {},
   "source": [
    "### Enabling @bot Mention Events\n",
    "\n",
    "Now that our service is verified, we can start to add Events that we'd like to receive from Slack. Since we're building a simple bot that we'd like users to interact with, let's create an Event that allows us to get a message each time someone mentions our `@newsbot` in our Slack channel. To do this:\n",
    "\n",
    "1. Head back to our Slack app settings page and click on `Event Subscriptions` in the left-hand menu\n",
    "2. Click on `Subscribe to bot events`\n",
    "3. Click the `Add Bot User Event` button\n",
    "4. Search for `app_mention` and add that event\n",
    "5. Click the green `Save Changes` button in the bottom right-hand side of the page\n",
    "6. Click on the `reinstall your app` link at the top of the screen (in the yellow message). This will redirect you back to your App Installation page. Click `Allow` which will allow your bot to have permissions for the newly create Event(s)."
   ]
  },
  {
   "cell_type": "markdown",
   "metadata": {},
   "source": [
    "**Now** let's modify our bot code to receive messages whenever our bot is @mentioned by a user. We can do this by creating a function that uses the decorator:\n",
    "```\n",
    "@slack_events_adapter.on(\"app_mention\")\n",
    "def app_mention(event_data):\n",
    "    print \"we got an app mention!\"\n",
    "```\n",
    "\n",
    "The code below will simply print out the data we receive from Slack when our bot gets an @mention. Run the following code and then send your bot some messages in your Slack channel!"
   ]
  },
  {
   "cell_type": "code",
   "execution_count": null,
   "metadata": {},
   "outputs": [],
   "source": [
    "import pprint\n",
    "\n",
    "@slack_events_adapter.on(\"app_mention\")\n",
    "def app_mention(event_data):\n",
    "    \n",
    "    # lets pretty-print the data we receive from slack\n",
    "    pprint.pprint(event_data)\n",
    "\n",
    "# Start the app on port 5000\n",
    "app.run(port=5000)"
   ]
  },
  {
   "cell_type": "markdown",
   "metadata": {},
   "source": [
    "Now that we're able to receive @mentions from Slack, let's update our code to send a message back to the channel where the @mention came from. To do this, we'll use the slack \"WebClient\" that we used earlier in class. In this case, we'll simply extract the channel ID from the Slack message and send a quick message back:"
   ]
  },
  {
   "cell_type": "code",
   "execution_count": null,
   "metadata": {},
   "outputs": [],
   "source": [
    "# let's add back our slack WebClient\n",
    "# which allows us to post messages back to Slack\n",
    "slack_client = slack.WebClient(token=SLACK_API_TOKEN)\n",
    "\n",
    "@slack_events_adapter.on(\"app_mention\")\n",
    "def app_mention(event_data):\n",
    "    \n",
    "    # pretty-print the data we receive from slack\n",
    "    pprint.pprint(event_data)\n",
    "\n",
    "    # lets get the channel ID from the incoming message\n",
    "    # and send \"Hi there!\" back to that channel\n",
    "    channel = event_data[\"event\"][\"channel\"]\n",
    "    \n",
    "    response = slack_client.chat_postMessage(channel=channel, text=\"Hi there!\")\n",
    "\n",
    "# Start the app on port 5000\n",
    "app.run(port=5000)"
   ]
  },
  {
   "cell_type": "markdown",
   "metadata": {},
   "source": [
    "### A COVID19 bot\n",
    "\n",
    "We are going to pull data from a collection being [collected by Johns Hopkins University](https://github.com/CSSEGISandData/COVID-19). There are several such collections, but this has a lot to recommend it. It is updated daily in a series of CSVs that have the current date in their title. Let's pull today's."
   ]
  },
  {
   "cell_type": "code",
   "execution_count": null,
   "metadata": {},
   "outputs": [],
   "source": [
    "from pandas import read_csv\n",
    "\n",
    "date = \"03-10-2020\"\n",
    "\n",
    "covid = read_csv(\"https://raw.githubusercontent.com/CSSEGISandData/COVID-19/master/csse_covid_19_data/csse_covid_19_daily_reports/\"+date+\".csv\")\n",
    "covid.head()"
   ]
  },
  {
   "cell_type": "markdown",
   "metadata": {},
   "source": [
    "You can see that this contains a fair bit of information. You can answer questions about counts of confirmed cases, deaths and recoveries, broken down by countries, states and some other areas. We can create `.sum()`'s to count cases worldwide. "
   ]
  },
  {
   "cell_type": "code",
   "execution_count": null,
   "metadata": {},
   "outputs": [],
   "source": [
    "confirmed = covid[\"Confirmed\"].sum()\n",
    "confirmed"
   ]
  },
  {
   "cell_type": "code",
   "execution_count": null,
   "metadata": {},
   "outputs": [],
   "source": [
    "deaths = covid[\"Deaths\"].sum()\n",
    "deaths"
   ]
  },
  {
   "cell_type": "code",
   "execution_count": null,
   "metadata": {},
   "outputs": [],
   "source": [
    "recovered = covid[\"Recovered\"].sum()\n",
    "recovered"
   ]
  },
  {
   "cell_type": "markdown",
   "metadata": {},
   "source": [
    "We can now create a simple bot that when you mention its name, along with keywords like \"confirmed\" or \"deaths\" or \"recoveries\" and get back the current counts.\n",
    "\n",
    "**Important:** This code should be the basis of your Slack bot - so please extend/modify this code. As a reminder, you will need to do a few quick setups to get this working in between closing your notebook, restarting your laptop, etc. \n",
    "\n",
    "\n",
    "**Step 1**: Make sure ngrok is running. The instructions are above but as a reminder: open up a new terminal, cd into the location where you downloaded it, and enter:\n",
    "\n",
    "on Unix/Mac:\n",
    "\n",
    "      ./ngrok http 5000\n",
    "\n",
    "on Windows:\n",
    "\n",
    "      ngrok.exe http 5000\n",
    "\n",
    "What you should see is something like this.\n",
    "\n",
    "<img src=\"https://github.com/computationaljournalism/columbia2018/raw/master/images/ng.jpg\" style=\"width: 50%; border: #000000 1px outset;\"/>\n",
    "\n",
    "NOTE The important part of the information here is the Forwarding https address - in this case: `https://3c825e6b.ngrok.io`. You will need this in the next step.\n",
    "\n",
    "\n",
    "**Step 2**: Go back to your Slack app settings to update the ngrok.io address (if has changed since hte last time you configured your Slack bot settings). Head to https://api.slack.com/apps, click on your bot's name, then click on `Event Subscriptions` on the left-hand menu. On the Event Subscriptions page, enter your ngrok.io url in the `Request URL` field. Remember to add `/slack/events` to the end of your URL so it should look like: `https://3c825e6b.ngrok.io/slack/events`\n",
    "\n",
    "**Step 3**: Find your Slack API Token and Signing Secret that you'll use in the code below. \n",
    "\n",
    "The Slack API Token can be found on your slack app settings page and then clicking on `OAuth & Permissions` --> `Bot User OAuth Access Token`.\n",
    "\n",
    "The Slack Signing Token can be found on your slack app settings page and then clicking on `Basic Information`, scoll down to the `App Credentials` section --> `Signing Secret` (you need to click Show and then cut/paste)."
   ]
  },
  {
   "cell_type": "code",
   "execution_count": null,
   "metadata": {},
   "outputs": [],
   "source": [
    "import pprint\n",
    "import datetime\n",
    "import slack\n",
    "from pandas import read_csv\n",
    "from flask import Flask\n",
    "from slackeventsapi import SlackEventAdapter\n",
    "\n",
    "# our slack api token\n",
    "# copy this from the OAuth & Permissions --> \"Bot User OAuth Access Token\"\n",
    "SLACK_API_TOKEN = \"\"\n",
    "\n",
    "# slack signing secret found in: https://api.slack.com/apps\n",
    "# which is the \"Basic Information\" tab --> App Credential section --> Show Signing Secret\n",
    "SLACK_SIGNING_SECRET = \"\"\n",
    "\n",
    "# This `app` represents our Flask app\n",
    "app = Flask(__name__)\n",
    "\n",
    "# let's add back our slack WebClient\n",
    "# which allows us to post messages back to Slack\n",
    "slack_client = slack.WebClient(token=SLACK_API_TOKEN)\n",
    "\n",
    "slack_events_adapter = SlackEventAdapter(SLACK_SIGNING_SECRET, \"/slack/events\", app)\n",
    "\n",
    "@slack_events_adapter.on(\"app_mention\")\n",
    "def app_mention(event_data):\n",
    "    \n",
    "    # pull out the text of the message to the bot\n",
    "    text = event_data[\"event\"][\"text\"]\n",
    "    \n",
    "    # and pull the channel we need to post a response to\n",
    "    channel = event_data[\"event\"][\"channel\"]\n",
    "   \n",
    "    # this is a cheap way to get data from yesterday\n",
    "    dt = str(datetime.datetime.today()-datetime.timedelta(days=1) )\n",
    "    date = dt[5:10]+\"-\"+dt[:4]\n",
    "\n",
    "    # pull the data from JHU\n",
    "    covid = read_csv(\"https://raw.githubusercontent.com/CSSEGISandData/COVID-19/master/csse_covid_19_data/csse_covid_19_daily_reports/\"+date+\".csv\")\n",
    "   \n",
    "    # and compute some simple things...\n",
    "    confirmed = covid[\"Confirmed\"].sum()\n",
    "    deaths = covid[\"Deaths\"].sum()\n",
    "    recovered = covid[\"Recovered\"].sum()\n",
    "\n",
    "    \n",
    "    if \"confirmed\" in text.lower():       \n",
    "        response = slack_client.chat_postMessage(channel=channel, text=\"Confirmed: \"+str(confirmed))\n",
    "\n",
    "    if \"death\" in text.lower():\n",
    "        response = slack_client.chat_postMessage(channel=channel, text=\"Deaths: \"+str(deaths))\n",
    "\n",
    "    if \"recover\" in text.lower():\n",
    "        response = slack_client.chat_postMessage(channel=channel, text=\"Recovered: \"+str(recovered))\n",
    "\n",
    "# Start the app on port 5000\n",
    "app.run(port=5000)"
   ]
  },
  {
   "cell_type": "markdown",
   "metadata": {},
   "source": [
    "From here, the world is your oyster! You can respond in a variety of ways and scan the input from a user to the bot in different ways! Try it!"
   ]
  }
 ],
 "metadata": {
  "kernelspec": {
   "display_name": "Python 3",
   "language": "python",
   "name": "python3"
  },
  "language_info": {
   "codemirror_mode": {
    "name": "ipython",
    "version": 3
   },
   "file_extension": ".py",
   "mimetype": "text/x-python",
   "name": "python",
   "nbconvert_exporter": "python",
   "pygments_lexer": "ipython3",
   "version": "3.7.4"
  }
 },
 "nbformat": 4,
 "nbformat_minor": 2
}

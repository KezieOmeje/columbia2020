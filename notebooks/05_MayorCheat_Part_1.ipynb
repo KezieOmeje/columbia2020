{
 "cells": [
  {
   "cell_type": "markdown",
   "metadata": {},
   "source": [
    "How it goes\n",
    "--------------\n",
    "\n",
    "I think we mentioned that certain voices on Twitter can be counted on for \"mixing things up\" and initiating stories that float through social media looking for traction. The Iowa caucuses were one example of stories appearing quickly in the silence left by missing county results. Margaret Sullivan wrote a nice piece about this, and specifically on how [misinformation and conspiracy theories filled the void.](https://www.washingtonpost.com/lifestyle/style/social-media-was-a-cesspool-of-toxic-iowa-conspiracy-theories-last-night-its-only-going-to-get-worse/2020/02/04/0df3a9e8-4757-11ea-ab15-b5df3261b710_story.html) [Other outlets](https://thehill.com/policy/technology/481448-iowa-chaos-highlights-new-misinformation-threat) observed and wrote on the phenomenon as well."
   ]
  },
  {
   "cell_type": "code",
   "execution_count": 8,
   "metadata": {},
   "outputs": [
    {
     "data": {
      "text/html": [
       "<blockquote class=\"twitter-tweet\"><p lang=\"en\" dir=\"ltr\">Social media was a cesspool of toxic Iowa conspiracy theories last night. It’s only going to get worse. ... My column <a href=\"https://t.co/CwRrLheuDM\">https://t.co/CwRrLheuDM</a></p>&mdash; Margaret Sullivan (@Sulliview) <a href=\"https://twitter.com/Sulliview/status/1224721170668441602?ref_src=twsrc%5Etfw\">February 4, 2020</a></blockquote> \n",
       "<script async src=\"https://platform.twitter.com/widgets.js\" charset=\"utf-8\"></script>\n"
      ],
      "text/plain": [
       "<IPython.core.display.HTML object>"
      ]
     },
     "metadata": {},
     "output_type": "display_data"
    }
   ],
   "source": [
    "%%HTML\n",
    "<blockquote class=\"twitter-tweet\"><p lang=\"en\" dir=\"ltr\">Social media was a cesspool of toxic Iowa conspiracy theories last night. It’s only going to get worse. ... My column <a href=\"https://t.co/CwRrLheuDM\">https://t.co/CwRrLheuDM</a></p>&mdash; Margaret Sullivan (@Sulliview) <a href=\"https://twitter.com/Sulliview/status/1224721170668441602?ref_src=twsrc%5Etfw\">February 4, 2020</a></blockquote> \n",
    "<script async src=\"https://platform.twitter.com/widgets.js\" charset=\"utf-8\"></script>"
   ]
  },
  {
   "cell_type": "markdown",
   "metadata": {},
   "source": [
    "Here is the tweet from Mike Cernovich. Who is he? (And why could we have guessed he'd be involved in something this during our semester?) The tweet handily kicks off a conspiracy theory linking the failed IDP application and Pete Buttigieg. "
   ]
  },
  {
   "cell_type": "code",
   "execution_count": 9,
   "metadata": {
    "scrolled": true
   },
   "outputs": [
    {
     "data": {
      "text/html": [
       "<blockquote class=\"twitter-tweet\"><p lang=\"en\" dir=\"ltr\">How to Rig an Election in 3 parts <a href=\"https://t.co/xLCRzLfdCO\">pic.twitter.com/xLCRzLfdCO</a></p>&mdash; Mike Cernovich (@Cernovich) <a href=\"https://twitter.com/Cernovich/status/1224582785458827264?ref_src=twsrc%5Etfw\">February 4, 2020</a></blockquote> \n",
       "<script async src=\"https://platform.twitter.com/widgets.js\" charset=\"utf-8\"></script>\n"
      ],
      "text/plain": [
       "<IPython.core.display.HTML object>"
      ]
     },
     "metadata": {},
     "output_type": "display_data"
    }
   ],
   "source": [
    "%%HTML\n",
    "<blockquote class=\"twitter-tweet\"><p lang=\"en\" dir=\"ltr\">How to Rig an Election in 3 parts <a href=\"https://t.co/xLCRzLfdCO\">pic.twitter.com/xLCRzLfdCO</a></p>&mdash; Mike Cernovich (@Cernovich) <a href=\"https://twitter.com/Cernovich/status/1224582785458827264?ref_src=twsrc%5Etfw\">February 4, 2020</a></blockquote> \n",
    "<script async src=\"https://platform.twitter.com/widgets.js\" charset=\"utf-8\"></script>"
   ]
  },
  {
   "cell_type": "markdown",
   "metadata": {},
   "source": [
    "It's possible read Sullivan as implying that Cernovich used his conspiracy tweet to promote the hashtag `#MayorCheat`, something a reporter for the One America News Network commented on..."
   ]
  },
  {
   "cell_type": "code",
   "execution_count": 10,
   "metadata": {},
   "outputs": [
    {
     "data": {
      "text/html": [
       "<blockquote class=\"twitter-tweet\"><p lang=\"en\" dir=\"ltr\">Hi Margaret, <br><br>I am fact-checking your piece, and I cannot find any tweets from <a href=\"https://twitter.com/Cernovich?ref_src=twsrc%5Etfw\">@Cernovich</a> on his timeline using the trending hashtag <a href=\"https://twitter.com/hashtag/MayorCheat?src=hash&amp;ref_src=twsrc%5Etfw\">#MayorCheat</a> yet you credited the phrase to him<br><br>Can you please direct me to your source for this information? <a href=\"https://t.co/9uuPWoVfxQ\">https://t.co/9uuPWoVfxQ</a></p>&mdash; Jack Posobiec 🇺🇸 (@JackPosobiec) <a href=\"https://twitter.com/JackPosobiec/status/1224788853342572544?ref_src=twsrc%5Etfw\">February 4, 2020</a></blockquote> \n",
       "<script async src=\"https://platform.twitter.com/widgets.js\" charset=\"utf-8\"></script>\n"
      ],
      "text/plain": [
       "<IPython.core.display.HTML object>"
      ]
     },
     "metadata": {},
     "output_type": "display_data"
    }
   ],
   "source": [
    "%%HTML\n",
    "<blockquote class=\"twitter-tweet\"><p lang=\"en\" dir=\"ltr\">Hi Margaret, <br><br>I am fact-checking your piece, and I cannot find any tweets from <a href=\"https://twitter.com/Cernovich?ref_src=twsrc%5Etfw\">@Cernovich</a> on his timeline using the trending hashtag <a href=\"https://twitter.com/hashtag/MayorCheat?src=hash&amp;ref_src=twsrc%5Etfw\">#MayorCheat</a> yet you credited the phrase to him<br><br>Can you please direct me to your source for this information? <a href=\"https://t.co/9uuPWoVfxQ\">https://t.co/9uuPWoVfxQ</a></p>&mdash; Jack Posobiec 🇺🇸 (@JackPosobiec) <a href=\"https://twitter.com/JackPosobiec/status/1224788853342572544?ref_src=twsrc%5Etfw\">February 4, 2020</a></blockquote> \n",
    "<script async src=\"https://platform.twitter.com/widgets.js\" charset=\"utf-8\"></script>"
   ]
  },
  {
   "cell_type": "markdown",
   "metadata": {},
   "source": [
    "The search facilities on Twitter let you take tweets only so far back. Sometimes they say a week, sometimes they give you access to material that is a few weeks old. So just to be safe, we requested a number of tweets for you and put them in a file, one row per tweet. The file is called `mike_cernovich.json` on our [GitHub page](https://github.com/computationaljournalism/columbia2020).  Download it and put it in the same folder as this notebook. \n",
    "\n",
    "You can now read them all in or just read them one at a time and do a kind of exploratory analysis by reading them... Here we loop over them and printout the date and the full text. Oh and the command `loads()` from the `json` package loads or parses a string and turns it into full-fledged Python objects. So we go from a string we can store in a file to an object with keys and lists and data. "
   ]
  },
  {
   "cell_type": "code",
   "execution_count": null,
   "metadata": {},
   "outputs": [],
   "source": [
    "from json import loads\n",
    "\n",
    "# remember once we open a file, .read() will take the contents into one long string\n",
    "# and .readlines() will create a list of strings, one string per line in the file.\n",
    "# the latter is what we want here.\n",
    "tweets = open(\"mike_cernovich.json\").readlines()\n",
    "\n",
    "# remember we can reverse the elements in a list, putting the first one last and the last\n",
    "# one first. our original tweet list went backwards in time. let's make it run forward.\n",
    "tweets.reverse()\n",
    "\n",
    "for tweet in tweets:\n",
    "    \n",
    "    # loop over tweets from cernovich, first loading the string, making Python objects\n",
    "    ptweet = loads(tweet)\n",
    "    \n",
    "    print(ptweet[\"created_at\"])\n",
    "    print(ptweet[\"full_text\"])\n",
    "    print(\"====\")"
   ]
  },
  {
   "cell_type": "markdown",
   "metadata": {},
   "source": [
    "We have also created a file `all_mike.csv`, again at our GitHub, that is a simplified version of the JSON data. It lets us do things like make simple time plots."
   ]
  },
  {
   "cell_type": "code",
   "execution_count": null,
   "metadata": {},
   "outputs": [],
   "source": [
    "from pandas import read_csv\n",
    "mike_tweets = read_csv(\"all_mike.csv\")\n",
    "\n",
    "from plotly.express import histogram\n",
    "\n",
    "fig = histogram(mike_tweets, x=\"date\",nbins=200)\n",
    "fig.show()"
   ]
  },
  {
   "cell_type": "markdown",
   "metadata": {},
   "source": [
    "Similarly, we have pulled down all the tweets containing `#mayorcheat` to see who is commenting when. There is a file (compressed) called `all_mayorcheat.json.gz` and then a similar CSV called `all_mayorcheat.csv` on our GitHub."
   ]
  },
  {
   "cell_type": "code",
   "execution_count": null,
   "metadata": {},
   "outputs": [],
   "source": [
    "all_cheat = read_csv(\"all_mayorcheat.csv\")\n",
    "\n",
    "from plotly.express import histogram\n",
    "\n",
    "fig = histogram(all_cheat, x=\"date\",nbins=200)\n",
    "fig.show()"
   ]
  },
  {
   "cell_type": "markdown",
   "metadata": {},
   "source": [
    "**A. How would you go about looking at this conspiracy theory? We see who started it, then what happened? Did the posting by Margaret Sullivan have any influence? What kinds of data do we need, and importantly what kinds of methods do we need ("
   ]
  }
 ],
 "metadata": {
  "kernelspec": {
   "display_name": "Python 3",
   "language": "python",
   "name": "python3"
  },
  "language_info": {
   "codemirror_mode": {
    "name": "ipython",
    "version": 3
   },
   "file_extension": ".py",
   "mimetype": "text/x-python",
   "name": "python",
   "nbconvert_exporter": "python",
   "pygments_lexer": "ipython3",
   "version": "3.7.1"
  }
 },
 "nbformat": 4,
 "nbformat_minor": 2
}

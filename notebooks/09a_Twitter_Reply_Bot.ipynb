{
 "cells": [
  {
   "cell_type": "markdown",
   "metadata": {},
   "source": [
    "## Our Twitter Reply Bot\n",
    "\n",
    "In class we are going to write a simple Twitter bot. We'd like you to work on the \"brains\" of the bot, coming up with the bot interactions: what does the bot do? what does the user need to send to the bot? how does the bot respond? what data does it need? etc.\n",
    "\n",
    "You'll be focusing on the logic of the bot but we need some \"scaffolding\" here - we need the code that will listen to @mentions (for our bot) and will respond to users.\n",
    "\n",
    "There are a few ways for us to write our Twitter bot. In our case, we want our bot to reply to anyone who sends an @mention to our bot, like: \n",
    "\n",
    "`@covidbot what's the covid case count in New York`.\n",
    "\n",
    "### Using Twitter's Realtime API\n",
    "\n",
    "To build our reply bot, we can take two approaches:\n",
    "\n",
    "1. Use Twitter's [Realtime (\"Streaming\") API](https://developer.twitter.com/en/docs/tweets/filter-realtime/overview/statuses-filter) to be notified of @mentions in realtime, or\n",
    "2. Use Twitter's [`statuses/mentions_timeline` API](https://developer.twitter.com/en/docs/tweets/timelines/api-reference/get-statuses-mentions_timeline) to get all @mentions for a user. For this method, you'd need to call the API every few seconds/minutes checking for new @mentions.\n",
    "\n",
    "There are pro's and con's to both approach here, but for fun, let's use the Realtime/Streaming APIs. **Note** the example in this notebook is a simple example and would need to be modified to work well as a bot that runs 24x7 without falling over! There is no error checking and I've certainly missed some corner cases - we can discuss in class which of the two approaches you'd take to make this a real bot!\n",
    "\n",
    "\n",
    "With Twitter's Streaming api, you can \"listen to\" or \"track\" multiple terms or phrases and twitter will send those tweets to us in realtime! it's up to us to respond to the tweets as we see fit. We can also save the tweets in a file, database...or even ignore them if you want.\n",
    "\n",
    "So, you could \"track\" phrases like `covid` or `coronavirus` if you want and you'll get a sampling of realtime tweets that contain those phrases. You can also ask to track mentions of `@covidbot` or whatever your bot name is (which is what we'll do). More information about filtering realtime tweets can be found here: https://developer.twitter.com/en/docs/tweets/filter-realtime/overview/statuses-filter\n"
   ]
  },
  {
   "cell_type": "markdown",
   "metadata": {},
   "source": [
    "### Our Bot Function\n",
    "\n",
    "As Mark mentioned in our class notebook, we' want you to write a function that takes a tweet's text and a screen name (or a user summoning our bot) and returns the text that we'd like to send back to the user. \n",
    "\n",
    "For example....if we're building a simple \"echo\" bot that just takes the the incoming tweet text and replies back to the user saying `hi` and echo'ing back what they tweeted at us, we could do this:"
   ]
  },
  {
   "cell_type": "code",
   "execution_count": null,
   "metadata": {},
   "outputs": [],
   "source": [
    "def bot(tweet_text, screen_name):\n",
    "    ''' this function takes the screen name and text of an incoming tweet\n",
    "        and simply returns the text that we want to reply with\n",
    "    '''\n",
    "\n",
    "    # just reply with what was tweeted at us\n",
    "    # the format of our reply will be:\n",
    "    # \"hi @person: [the text of their tweet will go here]\"\n",
    "    reply = 'hi @' + screen_name + ': ' + tweet_text\n",
    "\n",
    "    return reply"
   ]
  },
  {
   "cell_type": "markdown",
   "metadata": {},
   "source": [
    "We'll use Tweepy to use the Twitter streaming API. You've already installed it but it doesn't hurt to do it again..."
   ]
  },
  {
   "cell_type": "code",
   "execution_count": null,
   "metadata": {},
   "outputs": [],
   "source": [
    "!pip install tweepy"
   ]
  },
  {
   "cell_type": "markdown",
   "metadata": {},
   "source": [
    "This is the scaffolding of the reply bot, using Tweepy's `StreamListener` to listen for people @mentioning our bot and then replying to them. There are some new concepts in here that we can cover in class or over the coming week...but have a read of the code:"
   ]
  },
  {
   "cell_type": "code",
   "execution_count": null,
   "metadata": {},
   "outputs": [],
   "source": [
    "''' reply bot\n",
    "'''\n",
    "\n",
    "import tweepy\n",
    "\n",
    "class BotStreamListener(tweepy.StreamListener):\n",
    "    ''' this is our simple twitter bot \"listener\"\n",
    "        by \"listener\", we mean that it will listen to twitter for certain tweets\n",
    "        and we can respond/reply when we receive tweets that we are interest in\n",
    "    '''\n",
    "    def __init__(self, api):\n",
    "        self.api = api\n",
    "\n",
    "        # make an API call to twitter to get information about the\n",
    "        # authenticated user that is running this listener\n",
    "        # we'll use this infor below\n",
    "        self.me = api.me()\n",
    "\n",
    "    def on_status(self, tweet):\n",
    "        ''' this is called by tweepy's StreamListener whenever we get a tweet that matches our filter rules\n",
    "            tweet is a Tweepy tweet object\n",
    "        '''\n",
    "\n",
    "        # let's print out the tweet that just came in\n",
    "        print('----'*20)\n",
    "        print('incoming tweet:')\n",
    "        print(tweet.user)\n",
    "        print(tweet.text)\n",
    "        print('----'*20)\n",
    "\n",
    "        # ignore any tweets sent by/from us\n",
    "        # without this, we may endless reply to ourself :-)\n",
    "        if tweet.user.id_str == self.me.id_str:\n",
    "            print('ignoring tweets from our bot')\n",
    "            return\n",
    "\n",
    "        # call the bot function that we've defined above\n",
    "        # this wil pass in the tweet text and screen name of the tweet(er)\n",
    "        # and whatever text the bot() function returns will be sent\n",
    "        # back to the screen_name as a twitter reply\n",
    "        reply = bot(tweet.text, tweet.user.screen_name)\n",
    "\n",
    "        if reply:\n",
    "            # reply to the user\n",
    "            print(f'replying with: {reply}')\n",
    "\n",
    "            # reply to the user with the \"reply\" text\n",
    "            # and, by specifying the incoming tweet \"id string\",\n",
    "            # we are telling tweepy, and the twitter api, that this is a reply\n",
    "            api.update_status(reply, tweet.id_str)\n",
    "        else:\n",
    "            # hmmm...nothing to reply with so let's not even try\n",
    "            print('nothing to reply with! we wont send a reply')\n"
   ]
  },
  {
   "cell_type": "code",
   "execution_count": null,
   "metadata": {},
   "outputs": [],
   "source": [
    "# auth keys and secrets for our bot\n",
    "# you can use your own bot keys here if you'd like to run this\n",
    "consumer_key = 'Xqw8vDxc7PhOrvQMiOILjkmgS'\n",
    "consumer_secret = 'oqFvZo1G3jnnSVSIztOdNj1bmAnCC2roDv9CnfF0sOhF8G0aHt'\n",
    "access_token = '961659080266993665-cxji3bUl4B1bs01ZejiCpyEKwgIs2cl'\n",
    "access_token_secret = 'IGPQccmYAWRNOW040BR6MEzgFylcO3qO5gpvpM6i97jzw'\n",
    "\n",
    "# set up the auth object like we've always done with tweetpy\n",
    "auth = tweepy.OAuthHandler(consumer_key, consumer_secret)\n",
    "auth.set_access_token(access_token, access_token_secret)\n",
    "api = tweepy.API(auth)"
   ]
  },
  {
   "cell_type": "code",
   "execution_count": null,
   "metadata": {},
   "outputs": [],
   "source": [
    "# create out bot \"listener\" object\n",
    "bot_listener = BotStreamListener(api)\n",
    "\n",
    "# a bot object by telling tweepy that we'd like to use twitter \"streaming\" api\n",
    "my_bot = tweepy.Stream(auth=api.auth, listener=bot_listener)\n",
    "\n",
    "# phrase(s) to filter for using the 'track' rules:\n",
    "# https://developer.twitter.com/en/docs/tweets/filter-realtime/guides/basic-stream-parameters\n",
    "# call twitter to get info about me (this account)\n",
    "me = api.me()\n",
    "# now, create the string which we will filter for below: \"@stangellbaugh\" (or whatever the auth'd user's screen_name is)\n",
    "#my_screen_name = f'@{me.screen_name}'\n",
    "my_screen_name = '@' + me.screen_name\n",
    "\n",
    "# start our bot listener and listen for @mentions for the auth'd user (key/secrets above)\n",
    "my_bot.filter(track=[str(my_screen_name)])"
   ]
  },
  {
   "cell_type": "markdown",
   "metadata": {},
   "source": [
    "When you run this code above, it will run \"forever\" until you stop it, or it raises an Exception and crashes :-)\n",
    "\n",
    "**Make sure you stop and restart this cell if you make any edits to the `bot()` function or the listener**"
   ]
  }
 ],
 "metadata": {
  "kernelspec": {
   "display_name": "Python 3",
   "language": "python",
   "name": "python3"
  },
  "language_info": {
   "codemirror_mode": {
    "name": "ipython",
    "version": 3
   },
   "file_extension": ".py",
   "mimetype": "text/x-python",
   "name": "python",
   "nbconvert_exporter": "python",
   "pygments_lexer": "ipython3",
   "version": "3.7.4"
  }
 },
 "nbformat": 4,
 "nbformat_minor": 2
}

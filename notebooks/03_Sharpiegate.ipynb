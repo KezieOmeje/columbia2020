{
 "cells": [
  {
   "cell_type": "markdown",
   "metadata": {},
   "source": [
    "#Sharpiegate\n",
    "---------------\n",
    "\n",
    "<img src=\"https://img.buzzfeed.com/buzzfeed-static/static/2020-02/1/17/asset/ff90b1278a8b/sub-buzz-346-1580578270-8.png?downsize=700%3A%2A&output-quality=auto&output-format=auto\" width=300>\n",
    "\n",
    "As you may recall, on September 1 of this year, President Trump tweeted that Alabama and other southern states were \"most likely to be hit\" by hurricane Dorian. The scenes of devastation from the Bahamas were unbelievable and the prospect of Dorian reaching Alabama was frightening. Three days later, President Trump prouced the map above, with what appeared to be an extra bump drawn in to add Alabama to the storm's path."
   ]
  },
  {
   "cell_type": "code",
   "execution_count": 79,
   "metadata": {},
   "outputs": [
    {
     "data": {
      "text/html": [
       "<blockquote class=\"twitter-tweet\"><p lang=\"en\" dir=\"ltr\">In addition to Florida - South Carolina, North Carolina, Georgia, and Alabama, will most likely be hit (much) harder than anticipated. Looking like one of the largest hurricanes ever. Already category 5. BE CAREFUL! GOD BLESS EVERYONE!</p>&mdash; Donald J. Trump (@realDonaldTrump) <a href=\"https://twitter.com/realDonaldTrump/status/1168174613827899393?ref_src=twsrc%5Etfw\">September 1, 2019</a></blockquote> <script async src=\"https://platform.twitter.com/widgets.js\" charset=\"utf-8\"></script>\n"
      ],
      "text/plain": [
       "<IPython.core.display.HTML object>"
      ]
     },
     "metadata": {},
     "output_type": "display_data"
    }
   ],
   "source": [
    "%%HTML\n",
    "<blockquote class=\"twitter-tweet\"><p lang=\"en\" dir=\"ltr\">In addition to Florida - South Carolina, North Carolina, Georgia, and Alabama, will most likely be hit (much) harder than anticipated. Looking like one of the largest hurricanes ever. Already category 5. BE CAREFUL! GOD BLESS EVERYONE!</p>&mdash; Donald J. Trump (@realDonaldTrump) <a href=\"https://twitter.com/realDonaldTrump/status/1168174613827899393?ref_src=twsrc%5Etfw\">September 1, 2019</a></blockquote> <script async src=\"https://platform.twitter.com/widgets.js\" charset=\"utf-8\"></script>"
   ]
  },
  {
   "cell_type": "markdown",
   "metadata": {},
   "source": [
    "A FOIA request from Buzzfeed and other news outlets produced [this dump of emails](https://www.documentcloud.org/documents/6749506-LEOPOLD-FOIA-NOAA-Hurricane-Dorian-Sharpie-Gate.html) Friday night. You can find articles summarizing what the over 1,000 pages contain at\n",
    "[Axios](https://www.axios.com/noaa-trump-dorian-emails-release-key-takeaways-8a836b5c-d215-417c-86f7-fd0abb993e7a.html) and [Buzzfeed](https://www.buzzfeednews.com/article/zahrahirji/sharpiegate-fake-hurricane-map-emails). Continuing on our mission to understand how to go from unstructured to structured data - all the while teaching us about the built-in objects in Python - we will use this as a test case. \n",
    "\n",
    "Download the file and sketch out what things you might summarize and how they can be used to tell the story of what happened. "
   ]
  },
  {
   "cell_type": "markdown",
   "metadata": {},
   "source": [
    "Your ideas here\n",
    "\n",
    "\n"
   ]
  },
  {
   "cell_type": "markdown",
   "metadata": {},
   "source": [
    "As an exercise, let's add to some of the players you see in the file. Look up a couple names and add to the dictionary below. I've created the names and titles for a few people I noticed by skimming the files. "
   ]
  },
  {
   "cell_type": "code",
   "execution_count": null,
   "metadata": {},
   "outputs": [],
   "source": [
    "cast = {\n",
    "        \"Mary Erickson - NOAA Federal\":\"Deputy Director of NOAA's National Weather Service\",\n",
    "        \"Louis Uccellini - NOAA Federal\":\"Director, NWS\",\n",
    "        \"Craig McLean - NOAA Federal\":\"NOAA Acting Cheif Scientist\",\n",
    "        \"George Jungbluth - NOAA Federal\":\"Chief of Staff, NWS\",\n",
    "        \"Julie Roberts - NOAA Federal\":\"Director of Communications for NOAA\",\n",
    "        \"Scott Smullen - NOAA Federal\":\"Deputy Director of NOAA Communications\",\n",
    "        \"Christopher Vaccaro - NOAA Federal\":\"Senior Media Relations Specialist\",\n",
    "        \"Susan Buchanan - NOAA Federal\":\"Media Specialist, National Weather Service Severe weather, NOAA Weather Radio, weather safety information\",\n",
    "        \"Chris Darden - NOAA Federal\":\"NWS Birmingham, Meteorologist-in-Charge\",\n",
    "       }"
   ]
  },
  {
   "cell_type": "markdown",
   "metadata": {},
   "source": [
    "Create a DataFrame by making a list of the information for three \"senders\". This might be data you look up, things contained in the file, etc. Create at least five columns (attributes) and three rows (people or mail aliases)."
   ]
  },
  {
   "cell_type": "code",
   "execution_count": null,
   "metadata": {},
   "outputs": [],
   "source": [
    "# Your work here\n",
    "\n"
   ]
  },
  {
   "cell_type": "markdown",
   "metadata": {},
   "source": [
    "Below we have two lists that summarize the email counts per day in the FOIA dump. Use what you know about subsetting lists to pull out the `counts[]` for September 4 (the day the president unveiled his map). Then from `dates` pull out the string that corresponds to the say with the second largest counts. Yes, this is all a little tedious but we want to make sure you are good with lists and dictionaries!"
   ]
  },
  {
   "cell_type": "code",
   "execution_count": null,
   "metadata": {},
   "outputs": [],
   "source": [
    "counts = [3,10,93,49,97,60,105]\n",
    "dates = [\"2019-09-02\",\"2019-09-03\",\"2019-09-04\",\"2019-09-05\",\"2019-09-06\",\"2019-09-07\",\"2019-09-08\"]"
   ]
  },
  {
   "cell_type": "markdown",
   "metadata": {},
   "source": [
    "We have started to create a DataFrame that includes  information about each email in the FOIA release. It's called `noaa2.csv` and is on our github page. You can read it in directly from there. "
   ]
  },
  {
   "cell_type": "code",
   "execution_count": null,
   "metadata": {},
   "outputs": [],
   "source": [
    "from pandas import read_csv\n",
    "noaa = read_csv(\"https://raw.githubusercontent.com/computationaljournalism/columbia2020/master/data/noaa2.csv\")\n",
    "\n",
    "noaa.head()"
   ]
  },
  {
   "cell_type": "markdown",
   "metadata": {},
   "source": [
    "Each row is an email. How many emails were released in the FOIA dump?"
   ]
  },
  {
   "cell_type": "code",
   "execution_count": null,
   "metadata": {},
   "outputs": [],
   "source": []
  },
  {
   "cell_type": "markdown",
   "metadata": {},
   "source": [
    "**Subsetting columns**\n",
    "\n",
    "Now, let's summarize some columns. First, remember we subset out columns by simply giving their name in square brackets. So this extracts all the `date` data."
   ]
  },
  {
   "cell_type": "code",
   "execution_count": null,
   "metadata": {},
   "outputs": [],
   "source": [
    "noaa[\"date\"]"
   ]
  },
  {
   "cell_type": "markdown",
   "metadata": {},
   "source": [
    "Now, lets use the method `.value_counts()` on this column of the DataFrame to tally again how many emails were sent per day."
   ]
  },
  {
   "cell_type": "code",
   "execution_count": null,
   "metadata": {},
   "outputs": [],
   "source": [
    "noaa[\"date\"].value_counts()"
   ]
  },
  {
   "cell_type": "markdown",
   "metadata": {},
   "source": [
    "Now, summarize two other columns and tell me what they seem to indicate."
   ]
  },
  {
   "cell_type": "code",
   "execution_count": null,
   "metadata": {},
   "outputs": [],
   "source": [
    "# First\n",
    "\n",
    "\n",
    "# Second\n",
    "\n"
   ]
  },
  {
   "cell_type": "markdown",
   "metadata": {},
   "source": [
    "We can use our line plot to track finer structure of the emails within a day. Here we plot the email number (which number it is in the FOIA dump, 1 being the first in time order, 417 being the last. On the x-axis we put time, on the y-axis we put number. "
   ]
  },
  {
   "cell_type": "code",
   "execution_count": null,
   "metadata": {},
   "outputs": [],
   "source": [
    "from plotly.express import line\n",
    "fig = line(noaa, x=\"dt\", y=\"number\")\n",
    "fig.show()"
   ]
  },
  {
   "cell_type": "markdown",
   "metadata": {},
   "source": [
    "A more natural summary is just a histogram. That is, we divide the x-axis (in this case time) into equally sized intervals and on the y-axis show how many emails fall into each bin. Here we use `plotly.express` again and have asked for 100 time units between September 3 and 8. "
   ]
  },
  {
   "cell_type": "code",
   "execution_count": null,
   "metadata": {},
   "outputs": [],
   "source": [
    "from plotly.express import histogram\n",
    "\n",
    "fig = histogram(noaa, x=\"dt\",nbins=200)\n",
    "fig.show()"
   ]
  },
  {
   "cell_type": "markdown",
   "metadata": {},
   "source": [
    "**Subsetting rows**\n",
    "\n",
    "Recall that we have seen two kinds of subsetting for DataFrames -- one involves supplying a character string or a list of strings between square braces `[  ]`. Here we pull out all the senders."
   ]
  },
  {
   "cell_type": "code",
   "execution_count": null,
   "metadata": {},
   "outputs": [],
   "source": [
    "noaa[\"sender\"]"
   ]
  },
  {
   "cell_type": "markdown",
   "metadata": {},
   "source": [
    "The second kind of subsetting invloves using booleans to identify which rows to keep. So here we ask which sender is Chris Vaccaro (returning `True` and which is not returning `False`."
   ]
  },
  {
   "cell_type": "code",
   "execution_count": null,
   "metadata": {},
   "outputs": [],
   "source": [
    "noaa[\"sender\"]==\"Christopher Vaccaro - NOAA Federal\""
   ]
  },
  {
   "cell_type": "markdown",
   "metadata": {},
   "source": [
    "There is one boolean per row and using this inside `noaa[  ]` will produce another DataFrame that just has Vaccaro's emails. "
   ]
  },
  {
   "cell_type": "code",
   "execution_count": null,
   "metadata": {},
   "outputs": [],
   "source": [
    "noaa[noaa[\"sender\"]==\"Christopher Vaccaro - NOAA Federal\"]"
   ]
  },
  {
   "cell_type": "markdown",
   "metadata": {},
   "source": [
    "So that means so far we have seen **two forms of subsetting for Data Frames.** One for columns, providing a column name or a list of names, and one for rows, providing `True` or `False` to specify which to keep and which to kill. \n",
    "\n",
    "You might wonder why. The bottom line is that we end up doing this kind of subsetting a lot. And so making it easy to specify means our lives are easier. Let's try this out and have a look at just the histogram of Chris Vaccaro's involvement with `#Sharpiegate`."
   ]
  },
  {
   "cell_type": "code",
   "execution_count": null,
   "metadata": {},
   "outputs": [],
   "source": [
    "from plotly.express import histogram\n",
    "\n",
    "cv = noaa[noaa[\"sender\"]==\"Christopher Vaccaro - NOAA Federal\"]\n",
    "\n",
    "fig = histogram(cv, x=\"dt\",nbins=100)\n",
    "fig.show()"
   ]
  },
  {
   "cell_type": "markdown",
   "metadata": {},
   "source": [
    "Try this with someone else or with another condition, perhaps a particular subject line."
   ]
  },
  {
   "cell_type": "code",
   "execution_count": null,
   "metadata": {},
   "outputs": [],
   "source": []
  },
  {
   "cell_type": "markdown",
   "metadata": {},
   "source": [
    "Now, let's go back to the overall activity. We are going to create more complex boolean expressions to subset rows. Here's the complete email histogram again."
   ]
  },
  {
   "cell_type": "code",
   "execution_count": null,
   "metadata": {},
   "outputs": [],
   "source": [
    "fig = histogram(noaa, x=\"dt\",nbins=200)\n",
    "fig.show()"
   ]
  },
  {
   "cell_type": "markdown",
   "metadata": {},
   "source": [
    "A big spike hit at about 2 in the afternoon on the 4th (when was the president's briefing?). We might want to subset the emails from between 2 and 3 in the afternoon."
   ]
  },
  {
   "cell_type": "code",
   "execution_count": null,
   "metadata": {},
   "outputs": [],
   "source": [
    "noaa[noaa[\"dt\"]>\"2019-09-04 14:00:00\"]"
   ]
  },
  {
   "cell_type": "markdown",
   "metadata": {},
   "source": [
    "And here we look at those between 2 and 3pm. The simplest thing is to simply add another condition to the first one. "
   ]
  },
  {
   "cell_type": "code",
   "execution_count": null,
   "metadata": {},
   "outputs": [],
   "source": [
    "start2 = noaa[noaa[\"dt\"]>\"2019-09-04 14:00:00\"]\n",
    "btwn23 = start2[start2[\"dt\"]>\"2019-09-04 15:00:00\"]\n",
    "\n",
    "btwn23"
   ]
  },
  {
   "cell_type": "markdown",
   "metadata": {},
   "source": [
    "We can combine these two conditions into one like we did with booleans, but instead of `and` and `or` we use `&` and `|`. There are technical reasons why, but `and` in `(3<5) and (2>10)` is makig one comparison. When we do this in Pandas we are making one comparison per row. So the symbols are a little different. Test it out..."
   ]
  },
  {
   "cell_type": "code",
   "execution_count": null,
   "metadata": {},
   "outputs": [],
   "source": [
    "(noaa[\"dt\"]>\"2019-09-04 14:00:00\") & (noaa[\"dt\"]>\"2019-09-04 15:00:00\")"
   ]
  },
  {
   "cell_type": "markdown",
   "metadata": {},
   "source": [
    "And now feed these into `noaa[  ]` for subsetting, keeping just the rows in the time period."
   ]
  },
  {
   "cell_type": "code",
   "execution_count": null,
   "metadata": {},
   "outputs": [],
   "source": [
    "noaa[(noaa[\"dt\"]>\"2019-09-04 14:00:00\") & (noaa[\"dt\"]>\"2019-09-04 15:00:00\")]"
   ]
  },
  {
   "cell_type": "markdown",
   "metadata": {},
   "source": [
    "What do you see? What do you want to do next?\n",
    "\n",
    "**Crosstabulations**\n",
    "\n",
    "Next, we might look cross the days and see who is active or what subjects are talked about. We might do this easily with a crosstabulation. Here we import a function like `read_csv` from pandas, `crosstab`. This time, instead of simply tabulating the days emails were sent or the popular senders, now we look at the cross of both to see which days each person was active."
   ]
  },
  {
   "cell_type": "code",
   "execution_count": null,
   "metadata": {},
   "outputs": [],
   "source": [
    "from pandas import crosstab\n",
    "\n",
    "crosstab(noaa[\"sender\"],noaa[\"date\"])"
   ]
  },
  {
   "cell_type": "markdown",
   "metadata": {},
   "source": [
    "Finally, we might want to know how many emails referred to Buzzfeed or ABC. When a column in a DataFrame is made up of strings, we can use the `.str` object to access all the functions we were used to with strings. So for example, we can make all the subjects uppercase..."
   ]
  },
  {
   "cell_type": "code",
   "execution_count": null,
   "metadata": {},
   "outputs": [],
   "source": [
    "noaa[\"subject\"].str.upper()"
   ]
  },
  {
   "cell_type": "markdown",
   "metadata": {},
   "source": [
    "... and then we can see if they contain `\"ABC\"`..."
   ]
  },
  {
   "cell_type": "code",
   "execution_count": null,
   "metadata": {},
   "outputs": [],
   "source": [
    "noaa[\"subject\"].str.upper().str.contains(\"ABC\")"
   ]
  },
  {
   "cell_type": "markdown",
   "metadata": {},
   "source": [
    "... and use the boolean values to keep just the rows that have the condition we're after. "
   ]
  },
  {
   "cell_type": "code",
   "execution_count": null,
   "metadata": {},
   "outputs": [],
   "source": [
    "noaa[noaa[\"subject\"].str.upper().str.contains(\"ABC\")]"
   ]
  },
  {
   "cell_type": "markdown",
   "metadata": {},
   "source": [
    "Now, ask some questions about the data set -- explore a little. Go back to the original PDF and see how we might expand the data we have so far."
   ]
  },
  {
   "cell_type": "markdown",
   "metadata": {},
   "source": [
    "Your thoughts here\n",
    "\n",
    "\n"
   ]
  },
  {
   "cell_type": "markdown",
   "metadata": {},
   "source": [
    "**Finally, Iowa**\n",
    "\n",
    "We are going to try to build a model to predict county-level outcomes "
   ]
  }
 ],
 "metadata": {
  "kernelspec": {
   "display_name": "Python 3",
   "language": "python",
   "name": "python3"
  },
  "language_info": {
   "codemirror_mode": {
    "name": "ipython",
    "version": 3
   },
   "file_extension": ".py",
   "mimetype": "text/x-python",
   "name": "python",
   "nbconvert_exporter": "python",
   "pygments_lexer": "ipython3",
   "version": "3.7.1"
  }
 },
 "nbformat": 4,
 "nbformat_minor": 2
}

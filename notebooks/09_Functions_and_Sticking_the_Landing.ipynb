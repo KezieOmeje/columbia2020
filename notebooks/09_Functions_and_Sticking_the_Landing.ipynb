{
 "cells": [
  {
   "cell_type": "markdown",
   "metadata": {},
   "source": [
    "<img src=https://github.com/computationaljournalism/columbia2019/raw/master/images/rectanguler-wooden-block-500x500.jpg>\n",
    "\n",
    "### Functions\n",
    "\n",
    "So far, we have made a lot of use of the cell structure of your notebooks. We've tried to organize things so that each cell or maybe each \"chapter\" of a notebook accomplishes some task. And we have been encouraging you to make changes to the parameters (chaging URLs, or file names, or picking different numbers) and reuse the code. In short the notebook has let you repeat analysis by creating chunks of text that you can use again on different data. \n",
    "\n",
    "But this is a little clunky. It's great when you are learning, but it's not the way Python developers think. The main technique to share code is via Python's package mechanism. We have seen packages like Tweepy and Pandas and plotly. The creators of each have provided us with new kinds of objects to accomplish new tasks, from making requests for data on the web to working with tabular data. These objects extend Python's basic functionality and is probably the key to its longevity and broad adoption. \n",
    "\n",
    "Packages consist of simple data, objects and a category of thing we have used but not named -- *functions.* When we use `read_csv()`, for example, we are invoking a function from the `pandas` package that takes as *input* a file name or URL and *returns as output* a DataFrame. When we use `search()` from the package `re`, we are calling a function that takes as *inputs* a string and a pattern (in the form of a regular expression) and *returns* a match object, telling us whether the pattern was found or not. \n",
    "\n",
    "Functions are basically blocks of code that we will want to use repeatedly -- in this sense, functions are building blocks to be used in other programs, other notebooks. Ah but functions are blocks in another sense. Remember, Python uses indentation to indicate a block of code, whether it's the commands to be executed over the elements of a list in a `for` loop, or the actions we take when the condition in an `if`-statement is true. \n",
    "\n",
    "![stack](http://www.python-course.eu/images/blocks.png)\n",
    "\n",
    "In this case, we use indentation, a block of code to define the commands that are part of a function. Below is a simple example -- it basically adds 2 to whatever you pass it. \n",
    "\n",
    "*Baby steps!* 👣"
   ]
  },
  {
   "cell_type": "code",
   "execution_count": null,
   "metadata": {},
   "outputs": [],
   "source": [
    "def addtwo(x):\n",
    "    \"This function adds two to a number.\"\n",
    "    return(x+2)\n",
    "\n",
    "addtwo(3)"
   ]
  },
  {
   "cell_type": "markdown",
   "metadata": {},
   "source": [
    "The function `addtwo()` consists of two lines, both indented to the same level. That means they are read as part of the \"body\" of the function. The first line is just a bare string and is a description of what the function does. If you were to ask for help about the function, you will get this string."
   ]
  },
  {
   "cell_type": "code",
   "execution_count": null,
   "metadata": {},
   "outputs": [],
   "source": [
    "help(addtwo)"
   ]
  },
  {
   "cell_type": "markdown",
   "metadata": {},
   "source": [
    "The second line of the function involves a call to `return()`. This is the mechanism we use to exit the function and, well, return a value. That value can, in turn, be assigned a name and used in other calculations."
   ]
  },
  {
   "cell_type": "code",
   "execution_count": null,
   "metadata": {},
   "outputs": [],
   "source": [
    "y = addtwo(5)\n",
    "y*10+3"
   ]
  },
  {
   "cell_type": "markdown",
   "metadata": {},
   "source": [
    "Finally, the *parameter* `x` is assigned a value when the function is called. So `addtwo(3)` would assign x the value of 3, while `addtwo(20)` would assign `x` the value of 20. Let's make things a little more interesting. We are going to first write functions for our bots so let's make a slightly more conversational function. In this case we pass two parameters.\n",
    "\n",
    "We will used something called “formatted string literals” or f-strings. These are strings that have an \"f\" in front of them and curly braces containing expressions that will be replaced with their values. \n",
    "\n",
    "Here is an example."
   ]
  },
  {
   "cell_type": "code",
   "execution_count": null,
   "metadata": {},
   "outputs": [],
   "source": [
    "total = 155934\n",
    "date = \"2020-03-28\"\n",
    "state = \"NY\"\n",
    "\n",
    "f\"There were {total} test results for COVID-19 reported in {state} on {date}.\""
   ]
  },
  {
   "cell_type": "markdown",
   "metadata": {},
   "source": [
    "The formatted string is handy because it's incredibly readable and takes care of transforming objects like numbers into strings to be incorporated. \n",
    "\n",
    "Now, don't confuse the notation for formatting strings with how we define a dictionary. This, like regular expressions, is a kind of mini-specification that shares some of the same symbols but doesn't mean the same thing as what we've seen before. Just keep clear what you're doing and the notation will make sense.\n",
    "\n",
    "**Another example**\n",
    "\n",
    "Now, let's create a function that calls the COVID Tracking project's API. Recall what they are up to.\n",
    "\n",
    ">Testing is a crucial part of any public health response, and sharing test data is essential to understanding this outbreak. The CDC is currently not publishing complete testing data, so we’re doing our best to collect it from each state and provide it to the public.\n",
    "\n",
    "We will invoke the version of the API that produces a JSON string and not a CSV -- essentially we remove the \".csv\" from the URL (compare with the last notebook). Here, for example, is a request to `get()` the count of total tests in NY on the 28th of March."
   ]
  },
  {
   "cell_type": "code",
   "execution_count": null,
   "metadata": {},
   "outputs": [],
   "source": [
    "from requests import get\n",
    "\n",
    "date = \"20200328\"\n",
    "state = \"NY\"\n",
    "\n",
    "url = f\"https://covidtracking.com/api/states/daily?state={state}&date={date}\"\n",
    "response = get(url)\n",
    "\n",
    "data = response.json()\n",
    "data"
   ]
  },
  {
   "cell_type": "markdown",
   "metadata": {},
   "source": [
    "The result is a JSON string that we turn into a dictionary using the `.json()` command. We can now select the total number of test results using the key `totalTestResults`. "
   ]
  },
  {
   "cell_type": "code",
   "execution_count": null,
   "metadata": {},
   "outputs": [],
   "source": [
    "data['totalTestResults']"
   ]
  },
  {
   "cell_type": "markdown",
   "metadata": {},
   "source": [
    "Now, assuming we might want to do this repeatedly, we can fold the call into a function. "
   ]
  },
  {
   "cell_type": "code",
   "execution_count": null,
   "metadata": {},
   "outputs": [],
   "source": [
    "def tests(state,date):\n",
    "    \n",
    "    \"This function reports the number of tests performed in a given state on the given day\"\n",
    "\n",
    "    # form the URL to invoke the API\n",
    "    url = f\"https://covidtracking.com/api/states/daily?state={state}&date={date}\"\n",
    "    \n",
    "    # make the HTTP request\n",
    "    response = get(url)\n",
    "    \n",
    "    # turn the response into a dictionary\n",
    "    data = response.json()\n",
    "    \n",
    "    # extract the total number of test results reported on this day\n",
    "    total = data['totalTestResults']\n",
    "    \n",
    "    # create a \"conversational\" answer\n",
    "    answer = f\"There were {total} test results for COVID-19 reported in {state} on {date}.\"\n",
    "\n",
    "    # hand back this string\n",
    "    return(answer)"
   ]
  },
  {
   "cell_type": "markdown",
   "metadata": {},
   "source": [
    "To unpack this a little, we are forming the URL to call the API using a formatted string that weaves in the state abbreviation and the date. We then use `get()` to fetch the JSON string and turn it into a dictionary from which we select the total number of COVID tests performed in the state on the given day. We `return()` a conversational response. \n",
    "\n",
    "Let's try it. "
   ]
  },
  {
   "cell_type": "code",
   "execution_count": null,
   "metadata": {},
   "outputs": [],
   "source": [
    "tests(\"CA\",\"20200328\")"
   ]
  },
  {
   "cell_type": "code",
   "execution_count": null,
   "metadata": {},
   "outputs": [],
   "source": [
    "tests(\"CA\",\"20200321\")"
   ]
  },
  {
   "cell_type": "markdown",
   "metadata": {},
   "source": [
    "So the tests doubled in about a week. Keep in mind that the COVID Tracking project is focusing on test counts. \n",
    "\n",
    "Now that we've made a function with more than one variable, we can call it in a number of ways. The variations come from the way we associate values we are passing to parameters in the function. The simplest way to call a function is to simply assign values by position -- values are copied to their corresponding parameters in order.\n",
    "<br><br>\n",
    "&nbsp;&nbsp;&nbsp;&nbsp;&nbsp;&nbsp;`tests(\"AL\",\"20200315\")`\n",
    "<br><br>\n",
    "In this way, `state` becomes `\"AL\"` and `date` becomes `\"20200315\"`. A downside of positional arguments is that you have to remember the meaning of each position. To avoid that confustion, you can instead specify arguments by the names of their corresponding parameters. These represent the same call to `tests()` as that above.\n",
    "<br><br>\n",
    "&nbsp;&nbsp;&nbsp;&nbsp;&nbsp;&nbsp;`tests(state=\"AL\",date=\"20200315\")`\n",
    "<br><br>\n",
    "&nbsp;&nbsp;&nbsp;&nbsp;&nbsp;&nbsp;`tests(date=\"20200315\",state=\"AL\")`\n",
    "\n",
    "Let's try it out."
   ]
  },
  {
   "cell_type": "code",
   "execution_count": null,
   "metadata": {},
   "outputs": [],
   "source": [
    "tests(state=\"AL\",date=\"20200315\")"
   ]
  },
  {
   "cell_type": "code",
   "execution_count": null,
   "metadata": {},
   "outputs": [],
   "source": [
    "tests(date=\"20200315\",state=\"AL\")"
   ]
  },
  {
   "cell_type": "markdown",
   "metadata": {},
   "source": [
    "Finally, in defining a function, we might have reasonable *default* values for certain parameters. These we define with the function specification and then the default value is used when the function is called if an alternate value is not specified. "
   ]
  },
  {
   "cell_type": "code",
   "execution_count": null,
   "metadata": {},
   "outputs": [],
   "source": [
    "def tests(state,date,preface=\"UPDATE.\"):\n",
    "    \n",
    "    \"This function reports the number of tests performed in a given state on the given day\"\n",
    "\n",
    "    # form the URL to invoke the API\n",
    "    url = f\"https://covidtracking.com/api/states/daily?state={state}&date={date}\"\n",
    "    \n",
    "    # make the HTTP request\n",
    "    response = get(url)\n",
    "    \n",
    "    # turn the response into a dictionary\n",
    "    data = response.json()\n",
    "    \n",
    "    # extract the total number of test results reported on this day\n",
    "    total = data['totalTestResults']\n",
    "    \n",
    "    # create a \"conversational\" answer\n",
    "    answer = f\"{preface} There were {total} test results for COVID-19 reported in {state} on {date}.\"\n",
    "\n",
    "    # hand back this string\n",
    "    return(answer)"
   ]
  },
  {
   "cell_type": "code",
   "execution_count": null,
   "metadata": {},
   "outputs": [],
   "source": [
    "tests(date=\"20200315\",state=\"LA\")"
   ]
  },
  {
   "cell_type": "code",
   "execution_count": null,
   "metadata": {},
   "outputs": [],
   "source": [
    "tests(date=\"20200315\",state=\"LA\",preface=\"ALERT -\")"
   ]
  },
  {
   "cell_type": "markdown",
   "metadata": {},
   "source": [
    "To sum up... we have introduced the notion of a \"function\". We have seen a lot of these before. They are sometimes built-in functions like `sum()` or they are methods that are associated with an object, like `.value_counts()` is to a DataFrame. The syntax  `def ... :` is a way to create new functions and we use one block of code to indicate the \"body\" of the function. That is, you can build your own operations that take data in, operate on it, and return in some way.\n",
    "\n",
    "**Some fine print**\n",
    "\n",
    "The variables you create might not be accessible at all places in your code -- it all depends where you have defined or \"declared\" the variable. The *scope* of a variable determines the portion of your code where you can access a particular variable name. There are two basic scopes of variables in Python −- global variables and local variables. In short, variables that are defined inside a function body have a *local scope*, and those defined outside have a *global scope*.\n",
    "\n",
    "This means that local variables can be accessed only inside the function in which they are declared, whereas global variables can be accessed throughout your code by all functions. So, in the example below, `answer` is one of the variables that is local to the function `tests()` and cannot be seen outside the function body. Whereas `state` and `date` are global and can be seen everywhere, including the inside of the function body."
   ]
  },
  {
   "cell_type": "code",
   "execution_count": null,
   "metadata": {},
   "outputs": [],
   "source": [
    "state = \"CA\"\n",
    "date = \"20200318\"\n",
    "\n",
    "def tests():\n",
    "    \n",
    "    \"This function reports the number of tests performed in a given state on the given day\"\n",
    "\n",
    "    # form the URL to invoke the API\n",
    "    url = f\"https://covidtracking.com/api/states/daily?state={state}&date={date}\"\n",
    "    \n",
    "    # make the HTTP request\n",
    "    response = get(url)\n",
    "    \n",
    "    # turn the response into a dictionary\n",
    "    data = response.json()\n",
    "    \n",
    "    # extract the total number of test results reported on this day\n",
    "    total = data['totalTestResults']\n",
    "    \n",
    "    # create a \"conversational\" answer\n",
    "    answer = f\"There were {total} test results for COVID-19 reported in {state} on {date}.\"\n",
    "\n",
    "    # hand back this string\n",
    "    return(answer)\n",
    "\n",
    "tests()"
   ]
  },
  {
   "cell_type": "code",
   "execution_count": null,
   "metadata": {},
   "outputs": [],
   "source": [
    "answer"
   ]
  },
  {
   "cell_type": "markdown",
   "metadata": {},
   "source": [
    "So the variables you create (name) inside a function are accessible only inside the function. \n",
    "\n",
    "One last point that might trip you up. All parameters (arguments) in the Python language are passed \"by reference.\" It means if you change the object a variable refers to within a function, the change holds outside the function body as well. Below we have a function that takes a list as an argument. In Python the name `mylist` now points to the list that you called the function with. If you make a change to `mylist` list inside the function, you make a change to the original list. "
   ]
  },
  {
   "cell_type": "code",
   "execution_count": null,
   "metadata": {},
   "outputs": [],
   "source": [
    "def changeme(mylist):\n",
    "    mylist[0] = 5\n",
    "    return(\"done\")\n",
    "\n",
    "x = [1,2,3]\n",
    "changeme(x)\n",
    "\n",
    "x"
   ]
  },
  {
   "cell_type": "markdown",
   "metadata": {},
   "source": [
    "We see that the list `x` now has 5 as its first entry. I bring this up because it might bite you at some point and remembering that Python passes arguments \"by reference\" and not \"by value\" will be your key to debugging the problem. \n",
    "\n",
    "The reason this is subtle is because the following function leaves the value of `x` unchanged. Here the variable name `mydigit` is interpreted as local to the function body and when you change it to the value 5, it simply points the name `mydigit` at 5. The name `x` outside the function still points to the value `4`. (This would be true if we used `x` inside the body of the function instead of `mydigit` because the local name would take precedence.)"
   ]
  },
  {
   "cell_type": "code",
   "execution_count": null,
   "metadata": {},
   "outputs": [],
   "source": [
    "def changeme(mydigit):\n",
    "    mydigit = 5\n",
    "    return(\"done\")\n",
    "\n",
    "x = 4\n",
    "changeme(x)\n",
    "\n",
    "x"
   ]
  },
  {
   "cell_type": "markdown",
   "metadata": {},
   "source": [
    "What got us in trouble with the list example was that `mylist` pointed to the same list as `x` and so when you changed the one, you changed the other. "
   ]
  },
  {
   "cell_type": "markdown",
   "metadata": {},
   "source": [
    "**A step farther in language processing**\n",
    "\n",
    "To get you a little farther along with your bots, here is another tool for performing analysis on text. So far we have been dealing with text as patterns of symbols -- letters, numbers, punctuation. The next level up in the chain is to think about languge itself. This is a corner of machine learning called Natural Language Processing or NLP. There is so much to say about this, but in short, it is a suite of methods and theories for automatically parsing text, recognizing words and classifying them by part of speech or by function in a sentence (subject, object, etc.). \n",
    "\n",
    "NLP then moves forward from these base pieces to perform operations like classifying text or building other kinds of models. We are going to use a package called `spaCy` that makes some of this analysis easy. First we install the package and then we have to download a \"model\". This consists of the components of vocabulary and the computational means to perform the tagging and other operations we alluded to. "
   ]
  },
  {
   "cell_type": "code",
   "execution_count": null,
   "metadata": {},
   "outputs": [],
   "source": [
    "!pip install spacy"
   ]
  },
  {
   "cell_type": "code",
   "execution_count": null,
   "metadata": {},
   "outputs": [],
   "source": [
    "!python -m spacy download en"
   ]
  },
  {
   "cell_type": "markdown",
   "metadata": {},
   "source": [
    "We can then create a new NLP engine that we'll just choose to call `nlp`. With this object we can take a \"document\" and start to parse out the different words..."
   ]
  },
  {
   "cell_type": "code",
   "execution_count": null,
   "metadata": {},
   "outputs": [],
   "source": [
    "import spacy\n",
    "nlp = spacy.load(\"en\")"
   ]
  },
  {
   "cell_type": "code",
   "execution_count": null,
   "metadata": {},
   "outputs": [],
   "source": [
    "document = nlp(\"RIGHT NOW. More than 894,000 tests have been performed in the United States, according to the Trump administration’s point man for testing.\")\n",
    "document"
   ]
  },
  {
   "cell_type": "code",
   "execution_count": null,
   "metadata": {},
   "outputs": [],
   "source": [
    "for token in document:\n",
    "    print(token.text, token.pos_, token.dep_)"
   ]
  },
  {
   "cell_type": "code",
   "execution_count": null,
   "metadata": {},
   "outputs": [],
   "source": [
    "for ent in document.ents:\n",
    "    print(ent.text, \"-\", ent.label_)"
   ]
  },
  {
   "cell_type": "markdown",
   "metadata": {},
   "source": [
    "There is an excellent [\"spaCy 101\" tutorial](https://spacy.io/usage/spacy-101) that you can how follow along with. There are so many questions that are now answerable by you about text we've seen in class. You are unstoppable!\n",
    "\n",
    "**Bringing the bot project to a graceful landing**\n",
    "\n",
    "We now would like you to write a function that will be the heart of a Twitter bot. Someone will tweet at our bot and will receive a response that mentions their username. So you should write a function that takes as its  two arguments the `text` of a tweet and the poster's `screen_name`. It then does something in response, returning a string that will be tweeted out by our bot. So you write a function that takes two strings as arguments and returns one to be tweeted.\n",
    "\n",
    "Ready? Go!"
   ]
  }
 ],
 "metadata": {
  "kernelspec": {
   "display_name": "Python 3",
   "language": "python",
   "name": "python3"
  },
  "language_info": {
   "codemirror_mode": {
    "name": "ipython",
    "version": 3
   },
   "file_extension": ".py",
   "mimetype": "text/x-python",
   "name": "python",
   "nbconvert_exporter": "python",
   "pygments_lexer": "ipython3",
   "version": "3.7.1"
  }
 },
 "nbformat": 4,
 "nbformat_minor": 1
}

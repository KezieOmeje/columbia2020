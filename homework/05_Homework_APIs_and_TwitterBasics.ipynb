{
 "cells": [
  {
   "cell_type": "markdown",
   "metadata": {},
   "source": [
    "## 1. API Challenge Round!\n",
    "\n",
    "🏆Yes, it's your turn to pull data from an API. Given the way we've worked so far, focus on APIs that return JSON strings that we can read into a DataFrame, or explore with our dictionary/list/built-in datatype skills. (Yes, there's a lot of repetition here, but we're in week 3 and repetition is a good thing.) [This site](https://github.com/public-apis/public-apis) is a little informal, but has a nice organization. If we dip into the \"Food and Drink\" section...\n",
    "\n",
    "<img src=\"https://github.com/computationaljournalism/columbia2020/raw/master/images/aa.jpeg\" width=500>\n",
    "\n",
    "\n",
    "It's easy because it doesn't require an API key. The API documentation shows that you can just include parameters in the URL and it will return various beer brands. The easiest call has no parameters at all... "
   ]
  },
  {
   "cell_type": "code",
   "execution_count": null,
   "metadata": {},
   "outputs": [],
   "source": [
    "from requests import get\n",
    "\n",
    "# grab a random beer\n",
    "url = \"https://api.punkapi.com/v2/beers/random\"\n",
    "response = get(url)\n",
    "\n",
    "response.json()"
   ]
  },
  {
   "cell_type": "markdown",
   "metadata": {},
   "source": [
    "There are plenty of lists of APIs. [Here is another.](https://www.programmableweb.com/apis/directory)\n",
    "\n",
    "**A. Pick two APIs (one involving an API key), and pull data and identify a component of the returned object or objects. Bonus points for originality!** "
   ]
  },
  {
   "cell_type": "code",
   "execution_count": null,
   "metadata": {},
   "outputs": [],
   "source": [
    "# your code here\n",
    "\n"
   ]
  },
  {
   "cell_type": "markdown",
   "metadata": {},
   "source": [
    "## 2. Using The Twitter API\n",
    "\n",
    "To access the Twitter API, we need to register an \"application\" that will be pulling data from their service. This means that in one sweet instant you will become a developer! 😮 The steps are pretty easy and listed below. You'll first need to get a set of \"keys\" to use the API and then install a Python library that exposes the Twitter API through special objects. You are well on your way to writing your very own mis-information bot! (kidding)\n",
    "    \n",
    "**A) Apply for a Twitter Developer Account**\n",
    "\n",
    "If you don't already have credentials for Twitter, you have to create apply for a developer account, create an application and then generate a set of keys (an API key, API secret, Access token and Access token secret) on the Twitter developer site. First, we need to apply for an account:\n",
    "\n",
    "1. Create a Twitter user account if you do not already have one.\n",
    "2. Go to [https://developer.twitter.com/](https://developer.twitter.com/) and log in with your Twitter user account. \n",
    "3. After you've logged in, you need to \"Apply\" for a developer account. You can do that here: [https://developer.twitter.com/en/apply-for-access](https://developer.twitter.com/en/apply-for-access). A few tips when Applying for your developer account:\n",
    "\n",
    "  * On the \"Account Details\" section, you can select \"I am requesting access for my own personal use.\"\n",
    "  * On the \"Tell us about your project\" section, you can select: \"Student project / Learning to code.\" In the \"Describe in your own words what you are building\" section, let them know you'll be using the API in class. Do you best to fill this part out and let us know if you need help!\n",
    "  * The last step is to confirm your email. Once you do this, your application will be \"under review\" by the Twitter team\n",
    "\n",
    "**Important**: At this point, you may have to wait for Twitter to review and approve your account. In some cases, your application will be approved immediately. Once you are approved, follow the next steps to create an application and generate your API \"keys.\"\n",
    "\n",
    "\n",
    "**B) Get Your API Keys**\n",
    "\n",
    "Once your application is approved:\n",
    "\n",
    "1. Go to [https://developer.twitter.com/en/apps](https://developer.twitter.com/en/apps) and click “Create an app\"\n",
    "2. Fill out the form, agree to the terms, and click the \"create\" button. When filling out the form, make sure you put information in the required fields. For URL, you can use `https://columbia.edu`\n",
    "3. Once you've created your app, click on “Keys and tokens” tab and copy your “API key” and “API secret key”. Scroll down to the \"Access token & access token secret\" and click \"create\" - copy your “Access token” and “Access token secret”.\n",
    "\n",
    "Once you have your tokens, copy them into the variables below:"
   ]
  },
  {
   "cell_type": "code",
   "execution_count": null,
   "metadata": {},
   "outputs": [],
   "source": [
    "consumer_key = ''  # API key\n",
    "consumer_secret = ''  # API secrect key\n",
    "access_token = ''  # access token\n",
    "access_token_secret = ''  # access token secret"
   ]
  },
  {
   "cell_type": "markdown",
   "metadata": {},
   "source": [
    "**C) Install the Tweepy Library**\n",
    "\n",
    "The developer community has created [hundreds of Twitter libraries](https://developer.twitter.com/en/docs/developer-utilities/twitter-libraries) that help you access Twitter's API. By \"help\" we mean they have created objects that hide the details of making requests for data from Twitter, and leave you with a clean coding interface. Your requests to Twitter are in the form of neat methods (verbs) that return data on users, their statuses and followers. You can even post tweets using these libraries.\n",
    "\n",
    "We will by using Tweepy to call the Twitter API. Why? It has many of the best features of the other libraries and its documentation is complete. Often, free software projects can be thinly documented, leaving you a little out to sea if you have a problem.\n",
    "\n",
    "Keep these two links open in tabs as we go through the code below: [Tweepy documentation](https://tweepy.readthedocs.io/en/3.7.0/\n",
    ") and [source code](https://github.com/tweepy/tweepy).\n",
    "\n",
    "Use the following to install the Tweepy library on your machine."
   ]
  },
  {
   "cell_type": "code",
   "execution_count": null,
   "metadata": {},
   "outputs": [],
   "source": [
    "!pip install tweepy"
   ]
  },
  {
   "cell_type": "code",
   "execution_count": null,
   "metadata": {},
   "outputs": [],
   "source": [
    "# before we can make Twitter API calls, we need to initialize a few things...\n",
    "from tweepy import OAuthHandler, API\n",
    "\n",
    "# setup the authentication\n",
    "auth = OAuthHandler(consumer_key, consumer_secret)\n",
    "auth.set_access_token(access_token, access_token_secret)\n",
    "\n",
    "# create an object we will use to communicate with the Twitter API\n",
    "api = API(auth)\n",
    "print(type(api))"
   ]
  },
  {
   "cell_type": "markdown",
   "metadata": {},
   "source": [
    "This object has methods that encapsulate all the functionlity of the Twitter API. You can follow or unfollow people, you can post tweets, you can pull an accounts follower or friends. All of these are \"methods\" of the `api` object. It exposes all the activities available through the Twitter API.\n",
    "\n",
    "So from the comfort of Python we can make extensive use of Twitter.\n",
    "\n",
    "\n",
    "### Getting a User's Profile Info\n",
    "\n",
    "OK, now you are prepped and ready to start making Twitter API calls. First, lets look at some user profiles. \n",
    "\n",
    "We will be calling the `users/show` API. [It is documented by Twitter here.](https://developer.twitter.com/en/docs/accounts-and-users/follow-search-get-users/api-reference/get-users-show)\n",
    "\n",
    "To call the `user/show` API, Tweepy has a corresponding method called [`get_user()`](http://tweepy.readthedocs.io/en/v3.6.0/api.html#user-methods)."
   ]
  },
  {
   "cell_type": "code",
   "execution_count": null,
   "metadata": {},
   "outputs": [],
   "source": [
    "# get a user's profile ('myoung' in this case)\n",
    "user = api.get_user('myoung')\n",
    "\n",
    "type(user)"
   ]
  },
  {
   "cell_type": "markdown",
   "metadata": {},
   "source": [
    "What sort of information do we get about a user? Take a look at the `user/show` documentation to see what Twitter returns. By calling `api.get_user()` above, the Tweepy library made an API call to Twitter. The result of the API call is technically a JSON string. We could parse it into primitive Python objects like lists and dictionaries and numbers and strings. \n",
    "\n",
    "Tweepy does this work for us and stores it in an attribute `._json`. Let's have a look at all the goodies we can learn about `myoung`. (Again, we are not `print()`ing this object because, like DataFrames, the notebook is going to format the output nicely.)\n",
    "\n",
    "What kind of object are we dealing with?"
   ]
  },
  {
   "cell_type": "code",
   "execution_count": null,
   "metadata": {},
   "outputs": [],
   "source": [
    "data = user._json\n",
    "data"
   ]
  },
  {
   "cell_type": "markdown",
   "metadata": {},
   "source": [
    "Now, using the data Python object, pull some information about Mike from this dictionary.\n",
    "\n",
    "1. What is his `location`? \n",
    "2. What his his `description`? \n",
    "3. When did he last tweet? \n",
    "4. What was the text of his tweet?\n",
    "5. How many followers does he have?"
   ]
  },
  {
   "cell_type": "code",
   "execution_count": null,
   "metadata": {},
   "outputs": [],
   "source": [
    "# Your code here\n",
    "\n"
   ]
  },
  {
   "cell_type": "markdown",
   "metadata": {},
   "source": [
    "Tweepy also uses the high-level `User` object returned by  `.get_user()` that results from the API call to store this information in a more convenient format -- as attributes of the object. Here we have `.id` and `.screen_name` and the date Mike joined Twitter."
   ]
  },
  {
   "cell_type": "code",
   "execution_count": null,
   "metadata": {},
   "outputs": [],
   "source": [
    "# let's print out a few attributes for our user\n",
    "print(user.id)\n",
    "print(user.screen_name)\n",
    "print(user.location)\n",
    "print(user.followers_count)\n",
    "print(user.listed_count)\n",
    "print(user.statuses_count)\n",
    "print(user.created_at)"
   ]
  },
  {
   "cell_type": "markdown",
   "metadata": {},
   "source": [
    "Alright, so to sum. Twitter has an API. We make requests and get back a JSON string. Packages like `Tweepy` work with that string. We've seen a simple translation into Python objects using the `._json` attribute and we've seen the object `Tweepy` creates that has special attributes for characteristics of a user. Basically, making an object that is easier to work with than the raw dictionary."
   ]
  },
  {
   "cell_type": "markdown",
   "metadata": {},
   "source": [
    "**Try This!** \n",
    "\n",
    "**B. Modify the code above to get the user profile information for your own account, and then `@realDonaldTrump`, and then one other person of your choosing.**"
   ]
  },
  {
   "cell_type": "code",
   "execution_count": null,
   "metadata": {},
   "outputs": [],
   "source": [
    "# Your code here\n",
    "\n"
   ]
  },
  {
   "cell_type": "markdown",
   "metadata": {},
   "source": [
    "### Send a Tweet!\n",
    "\n",
    "If you were writing a bot, it would need to tweet! You can send out a tweet with one line of code.\n",
    "\n",
    "We will be using the `statuses/update` API to send the tweet. Again, like all of Twitters API functionality, it has documentation and you can [read about posting status updates here.]( https://developer.twitter.com/en/docs/tweets/post-and-engage/api-reference/post-statuses-update)"
   ]
  },
  {
   "cell_type": "code",
   "execution_count": null,
   "metadata": {},
   "outputs": [],
   "source": [
    "# send a tweet!\n",
    "# you may want to modify this message before you send it\n",
    "\n",
    "api.update_status(status='Sending my first tweet via the Twitter API - I love Computational Journalism!')"
   ]
  },
  {
   "cell_type": "markdown",
   "metadata": {},
   "source": [
    "As we said, through the API, you can do anything through Python that you could do via your Twitter interface. So, you can tweet, you can make friends, you can send a direct message, you can read your direct messages... the works!\n",
    "\n",
    "### Look at a User's Tweets\n",
    "\n",
    "Now, let's look at [`@realDonaldTrump`](https://twitter.com/realDonaldTrump)'s tweets. If you've had enough of all that, replace it with [`@justinbieber`](https://twitter.com/justinbieber) or someone less anxious-making.\n",
    "\n",
    "We will use the `statuses/user_timeline` API to do this. [Read the documentation here.](https://developer.twitter.com/en/docs/tweets/timelines/api-reference/get-statuses-user_timeline.html) Essentially it returns tweets in reverse chronological order -- newest first."
   ]
  },
  {
   "cell_type": "code",
   "execution_count": null,
   "metadata": {},
   "outputs": [],
   "source": [
    "# get the realDonaldTrump last 10 tweets\n",
    "tweets = api.user_timeline(screen_name='realDonaldTrump', count=10)\n",
    "\n",
    "# what sort of object do we get?\n",
    "print(type(tweets))"
   ]
  },
  {
   "cell_type": "markdown",
   "metadata": {},
   "source": [
    "The class here is a `ResultSet`. It's just like a list. So you can ask how many tweets we have..."
   ]
  },
  {
   "cell_type": "code",
   "execution_count": null,
   "metadata": {},
   "outputs": [],
   "source": [
    "len(tweets)"
   ]
  },
  {
   "cell_type": "markdown",
   "metadata": {},
   "source": [
    "... or ask for the sixth one (remember we start counting at 0). Just like the `user` object we made, let's look at one of his tweets..."
   ]
  },
  {
   "cell_type": "code",
   "execution_count": null,
   "metadata": {
    "scrolled": false
   },
   "outputs": [],
   "source": [
    "tweet = tweets[5]\n",
    "type(tweet)"
   ]
  },
  {
   "cell_type": "markdown",
   "metadata": {},
   "source": [
    "OK a `Status` object. Like the `User` object, we can pull raw data corresponding to Trump's sixth tweet using the `._json` attribute of this object."
   ]
  },
  {
   "cell_type": "code",
   "execution_count": null,
   "metadata": {},
   "outputs": [],
   "source": [
    "tweet._json"
   ]
  },
  {
   "cell_type": "markdown",
   "metadata": {},
   "source": [
    "So we can pull out `tweet[\"created_at\"]` to get the time of the tweet and so on. \n",
    "\n",
    "Like the user profile in a `User` object, the `Status` object contains information like the text of Trump's tweet, say  retweet count and so on. Here is some basic information about Trump's most recent tweet. This is stored under index 0 in the list of tweets we fetched from Twitter."
   ]
  },
  {
   "cell_type": "code",
   "execution_count": null,
   "metadata": {},
   "outputs": [],
   "source": [
    "# select one of the 10 tweets, here the first (most recent) one\n",
    "tweet = tweets[0]\n",
    "\n",
    "# print out some of the data associated with the \"status\" object\n",
    "# remember our \"dot\" notation for accessing data and functionality\n",
    "print(tweet.text)\n",
    "print(tweet.created_at)\n",
    "print(tweet.retweet_count)\n",
    "print(tweet.source)"
   ]
  },
  {
   "cell_type": "markdown",
   "metadata": {},
   "source": [
    "**Question** If we want to print out all 10 of these tweets, how would we do that? Would we do something like this?"
   ]
  },
  {
   "cell_type": "code",
   "execution_count": null,
   "metadata": {
    "scrolled": true
   },
   "outputs": [],
   "source": [
    "print(tweets[0].text)\n",
    "print(tweets[1].text)\n",
    "print(tweets[2].text)\n",
    "print(tweets[3].text)\n",
    "print(tweets[4].text)\n",
    "print(tweets[5].text)"
   ]
  },
  {
   "cell_type": "markdown",
   "metadata": {},
   "source": [
    "What if we needed to print out 100 tweets instead of 10? This doesn't seem like the right approach.\n",
    "\n",
    "## Loops -- Remembrance of Things Past\n",
    "\n",
    "Recall that loops are available in most programming languages and that they simply allow code to be executed repeatedly. Let's see what this means by looking at an example of a `for` loop over Trump's tweets. You can fetch the most recent 10 tweets from `@realDonaldTrump` and then loop over the tweets, printing each one out. Here, a tweet object from Tweepy has data attributes like the text of the tweet, stored in `\".text\"`"
   ]
  },
  {
   "cell_type": "code",
   "execution_count": null,
   "metadata": {},
   "outputs": [],
   "source": [
    "# get the \"real\" Donald's last 10 tweets\n",
    "tweets = api.user_timeline(screen_name='realDonaldTrump', count=10)\n",
    "\n",
    "# loop over the tweets and print out the tweet text\n",
    "for tweet in tweets:\n",
    "    print(tweet.text)"
   ]
  },
  {
   "cell_type": "markdown",
   "metadata": {},
   "source": [
    "**Try This!**\n",
    "\n",
    "**C. Use the example above to get the latest tweets for yourself, `@nytimes`, etc. What other information would be useful to have besides the text of the tweet?**"
   ]
  },
  {
   "cell_type": "code",
   "execution_count": null,
   "metadata": {},
   "outputs": [],
   "source": [
    "# Your code here!\n",
    "\n"
   ]
  },
  {
   "cell_type": "markdown",
   "metadata": {},
   "source": [
    "There is a lot you can do with the Twitter API. Not only can you get user's profiles or get their latest tweets - you can also use the API to search for various phrases, keywords, hashtags, etc. For example, if you want to search for Tweets that contain the `#IowaCaucuses2020` hashtag:"
   ]
  },
  {
   "cell_type": "code",
   "execution_count": null,
   "metadata": {},
   "outputs": [],
   "source": [
    "tweets = api.search(\"#IowaCaucuses2020\")\n",
    "\n",
    "for tweet in tweets:\n",
    "    print(tweet.text)"
   ]
  },
  {
   "cell_type": "markdown",
   "metadata": {},
   "source": [
    "**D. Now you try! Try using the Search API to look for a particular hashtag? Or, try searching for a URL to see who has shared it. Give the API a try.**"
   ]
  },
  {
   "cell_type": "code",
   "execution_count": null,
   "metadata": {},
   "outputs": [],
   "source": [
    "# Your code here\n",
    "\n",
    "\n"
   ]
  }
 ],
 "metadata": {
  "kernelspec": {
   "display_name": "Python 3",
   "language": "python",
   "name": "python3"
  },
  "language_info": {
   "codemirror_mode": {
    "name": "ipython",
    "version": 3
   },
   "file_extension": ".py",
   "mimetype": "text/x-python",
   "name": "python",
   "nbconvert_exporter": "python",
   "pygments_lexer": "ipython3",
   "version": "3.7.1"
  }
 },
 "nbformat": 4,
 "nbformat_minor": 2
}
